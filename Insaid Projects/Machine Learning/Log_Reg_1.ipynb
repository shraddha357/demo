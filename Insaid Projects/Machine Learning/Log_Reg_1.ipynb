{
 "cells": [
  {
   "cell_type": "markdown",
   "metadata": {},
   "source": [
    "  ## Project :- Customer Classification using Logistic Regression"
   ]
  },
  {
   "cell_type": "markdown",
   "metadata": {},
   "source": [
    "#### Problem Statement: Depending on the Revenue Grid, identify if the customer is High Net Worth or Low Net Worth"
   ]
  },
  {
   "cell_type": "code",
   "execution_count": 246,
   "metadata": {},
   "outputs": [],
   "source": [
    "import numpy as np\n",
    "import pandas as pd\n",
    "import matplotlib.pyplot as plt\n",
    "import seaborn as sns"
   ]
  },
  {
   "cell_type": "code",
   "execution_count": 148,
   "metadata": {},
   "outputs": [],
   "source": [
    "data=pd.read_csv(\"existing_base_train.csv\")"
   ]
  },
  {
   "cell_type": "code",
   "execution_count": 149,
   "metadata": {},
   "outputs": [
    {
     "data": {
      "text/html": [
       "<div>\n",
       "<style scoped>\n",
       "    .dataframe tbody tr th:only-of-type {\n",
       "        vertical-align: middle;\n",
       "    }\n",
       "\n",
       "    .dataframe tbody tr th {\n",
       "        vertical-align: top;\n",
       "    }\n",
       "\n",
       "    .dataframe thead th {\n",
       "        text-align: right;\n",
       "    }\n",
       "</style>\n",
       "<table border=\"1\" class=\"dataframe\">\n",
       "  <thead>\n",
       "    <tr style=\"text-align: right;\">\n",
       "      <th></th>\n",
       "      <th>REF_NO</th>\n",
       "      <th>children</th>\n",
       "      <th>age_band</th>\n",
       "      <th>status</th>\n",
       "      <th>occupation</th>\n",
       "      <th>occupation_partner</th>\n",
       "      <th>home_status</th>\n",
       "      <th>family_income</th>\n",
       "      <th>self_employed</th>\n",
       "      <th>self_employed_partner</th>\n",
       "      <th>...</th>\n",
       "      <th>Investment_Tax_Saving_Bond</th>\n",
       "      <th>Home_Loan</th>\n",
       "      <th>Online_Purchase_Amount</th>\n",
       "      <th>gender</th>\n",
       "      <th>region</th>\n",
       "      <th>Investment_in_Commudity</th>\n",
       "      <th>Investment_in_Equity</th>\n",
       "      <th>Investment_in_Derivative</th>\n",
       "      <th>Portfolio_Balance</th>\n",
       "      <th>Revenue_Grid</th>\n",
       "    </tr>\n",
       "  </thead>\n",
       "  <tbody>\n",
       "    <tr>\n",
       "      <th>0</th>\n",
       "      <td>5466</td>\n",
       "      <td>2</td>\n",
       "      <td>31-35</td>\n",
       "      <td>Partner</td>\n",
       "      <td>Professional</td>\n",
       "      <td>Professional</td>\n",
       "      <td>Own Home</td>\n",
       "      <td>&gt;=35,000</td>\n",
       "      <td>No</td>\n",
       "      <td>No</td>\n",
       "      <td>...</td>\n",
       "      <td>8.98</td>\n",
       "      <td>55.44</td>\n",
       "      <td>7.68</td>\n",
       "      <td>Female</td>\n",
       "      <td>North West</td>\n",
       "      <td>151.55</td>\n",
       "      <td>81.79</td>\n",
       "      <td>136.02</td>\n",
       "      <td>360.37</td>\n",
       "      <td>2</td>\n",
       "    </tr>\n",
       "    <tr>\n",
       "      <th>1</th>\n",
       "      <td>9091</td>\n",
       "      <td>Zero</td>\n",
       "      <td>45-50</td>\n",
       "      <td>Partner</td>\n",
       "      <td>Secretarial/Admin</td>\n",
       "      <td>Professional</td>\n",
       "      <td>Own Home</td>\n",
       "      <td>&gt;=35,000</td>\n",
       "      <td>No</td>\n",
       "      <td>No</td>\n",
       "      <td>...</td>\n",
       "      <td>0.00</td>\n",
       "      <td>0.00</td>\n",
       "      <td>18.99</td>\n",
       "      <td>Female</td>\n",
       "      <td>North West</td>\n",
       "      <td>44.28</td>\n",
       "      <td>13.91</td>\n",
       "      <td>29.23</td>\n",
       "      <td>89.22</td>\n",
       "      <td>2</td>\n",
       "    </tr>\n",
       "    <tr>\n",
       "      <th>2</th>\n",
       "      <td>9744</td>\n",
       "      <td>1</td>\n",
       "      <td>36-40</td>\n",
       "      <td>Partner</td>\n",
       "      <td>Manual Worker</td>\n",
       "      <td>Manual Worker</td>\n",
       "      <td>Rent Privately</td>\n",
       "      <td>&lt;22,500, &gt;=20,000</td>\n",
       "      <td>Yes</td>\n",
       "      <td>Yes</td>\n",
       "      <td>...</td>\n",
       "      <td>0.00</td>\n",
       "      <td>0.00</td>\n",
       "      <td>0.00</td>\n",
       "      <td>Female</td>\n",
       "      <td>South West</td>\n",
       "      <td>8.58</td>\n",
       "      <td>1.75</td>\n",
       "      <td>4.82</td>\n",
       "      <td>14.50</td>\n",
       "      <td>2</td>\n",
       "    </tr>\n",
       "    <tr>\n",
       "      <th>3</th>\n",
       "      <td>10700</td>\n",
       "      <td>2</td>\n",
       "      <td>31-35</td>\n",
       "      <td>Partner</td>\n",
       "      <td>Manual Worker</td>\n",
       "      <td>Manual Worker</td>\n",
       "      <td>Own Home</td>\n",
       "      <td>&lt;25,000, &gt;=22,500</td>\n",
       "      <td>No</td>\n",
       "      <td>No</td>\n",
       "      <td>...</td>\n",
       "      <td>0.00</td>\n",
       "      <td>0.00</td>\n",
       "      <td>0.00</td>\n",
       "      <td>Female</td>\n",
       "      <td>Scotland</td>\n",
       "      <td>15.00</td>\n",
       "      <td>0.00</td>\n",
       "      <td>5.00</td>\n",
       "      <td>68.98</td>\n",
       "      <td>2</td>\n",
       "    </tr>\n",
       "    <tr>\n",
       "      <th>4</th>\n",
       "      <td>1987</td>\n",
       "      <td>Zero</td>\n",
       "      <td>55-60</td>\n",
       "      <td>Partner</td>\n",
       "      <td>Housewife</td>\n",
       "      <td>Professional</td>\n",
       "      <td>Own Home</td>\n",
       "      <td>&gt;=35,000</td>\n",
       "      <td>No</td>\n",
       "      <td>No</td>\n",
       "      <td>...</td>\n",
       "      <td>0.00</td>\n",
       "      <td>0.00</td>\n",
       "      <td>0.00</td>\n",
       "      <td>Female</td>\n",
       "      <td>Unknown</td>\n",
       "      <td>0.00</td>\n",
       "      <td>1.66</td>\n",
       "      <td>1.66</td>\n",
       "      <td>1.88</td>\n",
       "      <td>2</td>\n",
       "    </tr>\n",
       "  </tbody>\n",
       "</table>\n",
       "<p>5 rows × 32 columns</p>\n",
       "</div>"
      ],
      "text/plain": [
       "   REF_NO children age_band   status         occupation occupation_partner  \\\n",
       "0    5466        2    31-35  Partner       Professional       Professional   \n",
       "1    9091     Zero    45-50  Partner  Secretarial/Admin       Professional   \n",
       "2    9744        1    36-40  Partner      Manual Worker      Manual Worker   \n",
       "3   10700        2    31-35  Partner      Manual Worker      Manual Worker   \n",
       "4    1987     Zero    55-60  Partner          Housewife       Professional   \n",
       "\n",
       "      home_status      family_income self_employed self_employed_partner  ...  \\\n",
       "0        Own Home           >=35,000            No                    No  ...   \n",
       "1        Own Home           >=35,000            No                    No  ...   \n",
       "2  Rent Privately  <22,500, >=20,000           Yes                   Yes  ...   \n",
       "3        Own Home  <25,000, >=22,500            No                    No  ...   \n",
       "4        Own Home           >=35,000            No                    No  ...   \n",
       "\n",
       "   Investment_Tax_Saving_Bond Home_Loan Online_Purchase_Amount  gender  \\\n",
       "0                        8.98     55.44                   7.68  Female   \n",
       "1                        0.00      0.00                  18.99  Female   \n",
       "2                        0.00      0.00                   0.00  Female   \n",
       "3                        0.00      0.00                   0.00  Female   \n",
       "4                        0.00      0.00                   0.00  Female   \n",
       "\n",
       "       region  Investment_in_Commudity  Investment_in_Equity  \\\n",
       "0  North West                   151.55                 81.79   \n",
       "1  North West                    44.28                 13.91   \n",
       "2  South West                     8.58                  1.75   \n",
       "3    Scotland                    15.00                  0.00   \n",
       "4     Unknown                     0.00                  1.66   \n",
       "\n",
       "   Investment_in_Derivative  Portfolio_Balance  Revenue_Grid  \n",
       "0                    136.02             360.37             2  \n",
       "1                     29.23              89.22             2  \n",
       "2                      4.82              14.50             2  \n",
       "3                      5.00              68.98             2  \n",
       "4                      1.66               1.88             2  \n",
       "\n",
       "[5 rows x 32 columns]"
      ]
     },
     "execution_count": 149,
     "metadata": {},
     "output_type": "execute_result"
    }
   ],
   "source": [
    "data.head()"
   ]
  },
  {
   "cell_type": "code",
   "execution_count": 150,
   "metadata": {},
   "outputs": [
    {
     "name": "stdout",
     "output_type": "stream",
     "text": [
      "<class 'pandas.core.frame.DataFrame'>\n",
      "RangeIndex: 8124 entries, 0 to 8123\n",
      "Data columns (total 32 columns):\n",
      " #   Column                           Non-Null Count  Dtype  \n",
      "---  ------                           --------------  -----  \n",
      " 0   REF_NO                           8124 non-null   int64  \n",
      " 1   children                         8124 non-null   object \n",
      " 2   age_band                         8124 non-null   object \n",
      " 3   status                           8124 non-null   object \n",
      " 4   occupation                       8124 non-null   object \n",
      " 5   occupation_partner               8124 non-null   object \n",
      " 6   home_status                      8124 non-null   object \n",
      " 7   family_income                    8124 non-null   object \n",
      " 8   self_employed                    8124 non-null   object \n",
      " 9   self_employed_partner            8124 non-null   object \n",
      " 10  year_last_moved                  8124 non-null   int64  \n",
      " 11  TVarea                           8124 non-null   object \n",
      " 12  post_code                        8124 non-null   object \n",
      " 13  post_area                        8124 non-null   object \n",
      " 14  Average_Credit_Card_Transaction  8124 non-null   float64\n",
      " 15  Balance_Transfer                 8124 non-null   float64\n",
      " 16  Term_Deposit                     8124 non-null   float64\n",
      " 17  Life_Insurance                   8124 non-null   float64\n",
      " 18  Medical_Insurance                8124 non-null   float64\n",
      " 19  Average_A/C_Balance              8124 non-null   float64\n",
      " 20  Personal_Loan                    8124 non-null   float64\n",
      " 21  Investment_in_Mutual_Fund        8124 non-null   float64\n",
      " 22  Investment_Tax_Saving_Bond       8124 non-null   float64\n",
      " 23  Home_Loan                        8124 non-null   float64\n",
      " 24  Online_Purchase_Amount           8124 non-null   float64\n",
      " 25  gender                           8124 non-null   object \n",
      " 26  region                           8124 non-null   object \n",
      " 27  Investment_in_Commudity          8124 non-null   float64\n",
      " 28  Investment_in_Equity             8124 non-null   float64\n",
      " 29  Investment_in_Derivative         8124 non-null   float64\n",
      " 30  Portfolio_Balance                8124 non-null   float64\n",
      " 31  Revenue_Grid                     8124 non-null   int64  \n",
      "dtypes: float64(15), int64(3), object(14)\n",
      "memory usage: 2.0+ MB\n"
     ]
    }
   ],
   "source": [
    "data.info()"
   ]
  },
  {
   "cell_type": "code",
   "execution_count": 151,
   "metadata": {},
   "outputs": [
    {
     "data": {
      "text/html": [
       "<div>\n",
       "<style scoped>\n",
       "    .dataframe tbody tr th:only-of-type {\n",
       "        vertical-align: middle;\n",
       "    }\n",
       "\n",
       "    .dataframe tbody tr th {\n",
       "        vertical-align: top;\n",
       "    }\n",
       "\n",
       "    .dataframe thead th {\n",
       "        text-align: right;\n",
       "    }\n",
       "</style>\n",
       "<table border=\"1\" class=\"dataframe\">\n",
       "  <thead>\n",
       "    <tr style=\"text-align: right;\">\n",
       "      <th></th>\n",
       "      <th>REF_NO</th>\n",
       "      <th>year_last_moved</th>\n",
       "      <th>Average_Credit_Card_Transaction</th>\n",
       "      <th>Balance_Transfer</th>\n",
       "      <th>Term_Deposit</th>\n",
       "      <th>Life_Insurance</th>\n",
       "      <th>Medical_Insurance</th>\n",
       "      <th>Average_A/C_Balance</th>\n",
       "      <th>Personal_Loan</th>\n",
       "      <th>Investment_in_Mutual_Fund</th>\n",
       "      <th>Investment_Tax_Saving_Bond</th>\n",
       "      <th>Home_Loan</th>\n",
       "      <th>Online_Purchase_Amount</th>\n",
       "      <th>Investment_in_Commudity</th>\n",
       "      <th>Investment_in_Equity</th>\n",
       "      <th>Investment_in_Derivative</th>\n",
       "      <th>Portfolio_Balance</th>\n",
       "      <th>Revenue_Grid</th>\n",
       "    </tr>\n",
       "  </thead>\n",
       "  <tbody>\n",
       "    <tr>\n",
       "      <th>count</th>\n",
       "      <td>8124.000000</td>\n",
       "      <td>8124.000000</td>\n",
       "      <td>8124.000000</td>\n",
       "      <td>8124.000000</td>\n",
       "      <td>8124.000000</td>\n",
       "      <td>8124.000000</td>\n",
       "      <td>8124.000000</td>\n",
       "      <td>8124.000000</td>\n",
       "      <td>8124.00000</td>\n",
       "      <td>8124.000000</td>\n",
       "      <td>8124.000000</td>\n",
       "      <td>8124.000000</td>\n",
       "      <td>8124.000000</td>\n",
       "      <td>8124.000000</td>\n",
       "      <td>8124.000000</td>\n",
       "      <td>8124.000000</td>\n",
       "      <td>8124.000000</td>\n",
       "      <td>8124.000000</td>\n",
       "    </tr>\n",
       "    <tr>\n",
       "      <th>mean</th>\n",
       "      <td>5797.343304</td>\n",
       "      <td>1967.876908</td>\n",
       "      <td>23.251094</td>\n",
       "      <td>46.082922</td>\n",
       "      <td>27.284649</td>\n",
       "      <td>65.317939</td>\n",
       "      <td>18.826195</td>\n",
       "      <td>31.838023</td>\n",
       "      <td>25.41583</td>\n",
       "      <td>41.723628</td>\n",
       "      <td>6.057246</td>\n",
       "      <td>4.416914</td>\n",
       "      <td>19.198658</td>\n",
       "      <td>36.152749</td>\n",
       "      <td>21.442475</td>\n",
       "      <td>31.530652</td>\n",
       "      <td>89.353368</td>\n",
       "      <td>1.894141</td>\n",
       "    </tr>\n",
       "    <tr>\n",
       "      <th>std</th>\n",
       "      <td>3322.497568</td>\n",
       "      <td>182.563785</td>\n",
       "      <td>51.147496</td>\n",
       "      <td>79.084692</td>\n",
       "      <td>54.133537</td>\n",
       "      <td>95.762451</td>\n",
       "      <td>32.022332</td>\n",
       "      <td>45.249440</td>\n",
       "      <td>85.13015</td>\n",
       "      <td>64.416023</td>\n",
       "      <td>12.673374</td>\n",
       "      <td>9.945747</td>\n",
       "      <td>92.343126</td>\n",
       "      <td>42.474953</td>\n",
       "      <td>32.261660</td>\n",
       "      <td>39.480660</td>\n",
       "      <td>108.303538</td>\n",
       "      <td>0.307676</td>\n",
       "    </tr>\n",
       "    <tr>\n",
       "      <th>min</th>\n",
       "      <td>2.000000</td>\n",
       "      <td>0.000000</td>\n",
       "      <td>0.000000</td>\n",
       "      <td>0.000000</td>\n",
       "      <td>0.000000</td>\n",
       "      <td>0.000000</td>\n",
       "      <td>0.000000</td>\n",
       "      <td>0.000000</td>\n",
       "      <td>0.00000</td>\n",
       "      <td>0.000000</td>\n",
       "      <td>0.000000</td>\n",
       "      <td>0.000000</td>\n",
       "      <td>0.000000</td>\n",
       "      <td>0.000000</td>\n",
       "      <td>0.000000</td>\n",
       "      <td>0.000000</td>\n",
       "      <td>-78.430000</td>\n",
       "      <td>1.000000</td>\n",
       "    </tr>\n",
       "    <tr>\n",
       "      <th>25%</th>\n",
       "      <td>2924.750000</td>\n",
       "      <td>1978.000000</td>\n",
       "      <td>0.000000</td>\n",
       "      <td>0.000000</td>\n",
       "      <td>0.000000</td>\n",
       "      <td>0.000000</td>\n",
       "      <td>0.000000</td>\n",
       "      <td>0.000000</td>\n",
       "      <td>0.00000</td>\n",
       "      <td>0.000000</td>\n",
       "      <td>0.000000</td>\n",
       "      <td>0.000000</td>\n",
       "      <td>0.000000</td>\n",
       "      <td>8.282500</td>\n",
       "      <td>4.660000</td>\n",
       "      <td>8.740000</td>\n",
       "      <td>26.277500</td>\n",
       "      <td>2.000000</td>\n",
       "    </tr>\n",
       "    <tr>\n",
       "      <th>50%</th>\n",
       "      <td>5811.500000</td>\n",
       "      <td>1988.000000</td>\n",
       "      <td>0.000000</td>\n",
       "      <td>17.485000</td>\n",
       "      <td>0.000000</td>\n",
       "      <td>31.475000</td>\n",
       "      <td>0.010000</td>\n",
       "      <td>14.980000</td>\n",
       "      <td>0.00000</td>\n",
       "      <td>23.480000</td>\n",
       "      <td>0.000000</td>\n",
       "      <td>0.000000</td>\n",
       "      <td>0.000000</td>\n",
       "      <td>23.590000</td>\n",
       "      <td>12.820000</td>\n",
       "      <td>21.140000</td>\n",
       "      <td>65.560000</td>\n",
       "      <td>2.000000</td>\n",
       "    </tr>\n",
       "    <tr>\n",
       "      <th>75%</th>\n",
       "      <td>8681.500000</td>\n",
       "      <td>1994.000000</td>\n",
       "      <td>23.480000</td>\n",
       "      <td>64.990000</td>\n",
       "      <td>34.490000</td>\n",
       "      <td>92.887500</td>\n",
       "      <td>26.970000</td>\n",
       "      <td>45.922500</td>\n",
       "      <td>20.82750</td>\n",
       "      <td>59.440000</td>\n",
       "      <td>5.490000</td>\n",
       "      <td>4.490000</td>\n",
       "      <td>7.480000</td>\n",
       "      <td>49.795000</td>\n",
       "      <td>27.972500</td>\n",
       "      <td>42.392500</td>\n",
       "      <td>123.970000</td>\n",
       "      <td>2.000000</td>\n",
       "    </tr>\n",
       "    <tr>\n",
       "      <th>max</th>\n",
       "      <td>11518.000000</td>\n",
       "      <td>1999.000000</td>\n",
       "      <td>662.260000</td>\n",
       "      <td>2951.760000</td>\n",
       "      <td>784.820000</td>\n",
       "      <td>2930.410000</td>\n",
       "      <td>591.040000</td>\n",
       "      <td>626.240000</td>\n",
       "      <td>4905.93000</td>\n",
       "      <td>2561.270000</td>\n",
       "      <td>156.870000</td>\n",
       "      <td>162.350000</td>\n",
       "      <td>4306.420000</td>\n",
       "      <td>1231.090000</td>\n",
       "      <td>1279.100000</td>\n",
       "      <td>1771.160000</td>\n",
       "      <td>4283.560000</td>\n",
       "      <td>2.000000</td>\n",
       "    </tr>\n",
       "  </tbody>\n",
       "</table>\n",
       "</div>"
      ],
      "text/plain": [
       "             REF_NO  year_last_moved  Average_Credit_Card_Transaction  \\\n",
       "count   8124.000000      8124.000000                      8124.000000   \n",
       "mean    5797.343304      1967.876908                        23.251094   \n",
       "std     3322.497568       182.563785                        51.147496   \n",
       "min        2.000000         0.000000                         0.000000   \n",
       "25%     2924.750000      1978.000000                         0.000000   \n",
       "50%     5811.500000      1988.000000                         0.000000   \n",
       "75%     8681.500000      1994.000000                        23.480000   \n",
       "max    11518.000000      1999.000000                       662.260000   \n",
       "\n",
       "       Balance_Transfer  Term_Deposit  Life_Insurance  Medical_Insurance  \\\n",
       "count       8124.000000   8124.000000     8124.000000        8124.000000   \n",
       "mean          46.082922     27.284649       65.317939          18.826195   \n",
       "std           79.084692     54.133537       95.762451          32.022332   \n",
       "min            0.000000      0.000000        0.000000           0.000000   \n",
       "25%            0.000000      0.000000        0.000000           0.000000   \n",
       "50%           17.485000      0.000000       31.475000           0.010000   \n",
       "75%           64.990000     34.490000       92.887500          26.970000   \n",
       "max         2951.760000    784.820000     2930.410000         591.040000   \n",
       "\n",
       "       Average_A/C_Balance  Personal_Loan  Investment_in_Mutual_Fund  \\\n",
       "count          8124.000000     8124.00000                8124.000000   \n",
       "mean             31.838023       25.41583                  41.723628   \n",
       "std              45.249440       85.13015                  64.416023   \n",
       "min               0.000000        0.00000                   0.000000   \n",
       "25%               0.000000        0.00000                   0.000000   \n",
       "50%              14.980000        0.00000                  23.480000   \n",
       "75%              45.922500       20.82750                  59.440000   \n",
       "max             626.240000     4905.93000                2561.270000   \n",
       "\n",
       "       Investment_Tax_Saving_Bond    Home_Loan  Online_Purchase_Amount  \\\n",
       "count                 8124.000000  8124.000000             8124.000000   \n",
       "mean                     6.057246     4.416914               19.198658   \n",
       "std                     12.673374     9.945747               92.343126   \n",
       "min                      0.000000     0.000000                0.000000   \n",
       "25%                      0.000000     0.000000                0.000000   \n",
       "50%                      0.000000     0.000000                0.000000   \n",
       "75%                      5.490000     4.490000                7.480000   \n",
       "max                    156.870000   162.350000             4306.420000   \n",
       "\n",
       "       Investment_in_Commudity  Investment_in_Equity  \\\n",
       "count              8124.000000           8124.000000   \n",
       "mean                 36.152749             21.442475   \n",
       "std                  42.474953             32.261660   \n",
       "min                   0.000000              0.000000   \n",
       "25%                   8.282500              4.660000   \n",
       "50%                  23.590000             12.820000   \n",
       "75%                  49.795000             27.972500   \n",
       "max                1231.090000           1279.100000   \n",
       "\n",
       "       Investment_in_Derivative  Portfolio_Balance  Revenue_Grid  \n",
       "count               8124.000000        8124.000000   8124.000000  \n",
       "mean                  31.530652          89.353368      1.894141  \n",
       "std                   39.480660         108.303538      0.307676  \n",
       "min                    0.000000         -78.430000      1.000000  \n",
       "25%                    8.740000          26.277500      2.000000  \n",
       "50%                   21.140000          65.560000      2.000000  \n",
       "75%                   42.392500         123.970000      2.000000  \n",
       "max                 1771.160000        4283.560000      2.000000  "
      ]
     },
     "execution_count": 151,
     "metadata": {},
     "output_type": "execute_result"
    }
   ],
   "source": [
    "data.describe()"
   ]
  },
  {
   "cell_type": "code",
   "execution_count": 74,
   "metadata": {},
   "outputs": [
    {
     "data": {
      "text/plain": [
       "662.26"
      ]
     },
     "execution_count": 74,
     "metadata": {},
     "output_type": "execute_result"
    }
   ],
   "source": [
    "data['Average_Credit_Card_Transaction'].max()"
   ]
  },
  {
   "cell_type": "markdown",
   "metadata": {},
   "source": [
    "##### Exploratory Data Analaysis"
   ]
  },
  {
   "cell_type": "code",
   "execution_count": 152,
   "metadata": {},
   "outputs": [
    {
     "data": {
      "text/plain": [
       "<matplotlib.axes._subplots.AxesSubplot at 0x28d65380d30>"
      ]
     },
     "execution_count": 152,
     "metadata": {},
     "output_type": "execute_result"
    },
    {
     "data": {
      "image/png": "[encoded data removed]",
      "text/plain": [
       "<Figure size 432x288 with 1 Axes>"
      ]
     },
     "metadata": {
      "needs_background": "light"
     },
     "output_type": "display_data"
    }
   ],
   "source": [
    "sns.distplot(data['Average_Credit_Card_Transaction'])"
   ]
  },
  {
   "cell_type": "code",
   "execution_count": 153,
   "metadata": {},
   "outputs": [
    {
     "data": {
      "text/plain": [
       "<matplotlib.axes._subplots.AxesSubplot at 0x28d6540e220>"
      ]
     },
     "execution_count": 153,
     "metadata": {},
     "output_type": "execute_result"
    },
    {
     "data": {
      "image/png": "[encoded data removed]",
      "text/plain": [
       "<Figure size 432x288 with 1 Axes>"
      ]
     },
     "metadata": {
      "needs_background": "light"
     },
     "output_type": "display_data"
    }
   ],
   "source": [
    "sns.boxplot(data['Average_Credit_Card_Transaction'])"
   ]
  },
  {
   "cell_type": "code",
   "execution_count": 154,
   "metadata": {},
   "outputs": [
    {
     "data": {
      "text/plain": [
       "23.25109428852797"
      ]
     },
     "execution_count": 154,
     "metadata": {},
     "output_type": "execute_result"
    }
   ],
   "source": [
    "data['Average_Credit_Card_Transaction'].mean()"
   ]
  },
  {
   "cell_type": "code",
   "execution_count": 155,
   "metadata": {},
   "outputs": [
    {
     "data": {
      "text/plain": [
       "0.0"
      ]
     },
     "execution_count": 155,
     "metadata": {},
     "output_type": "execute_result"
    }
   ],
   "source": [
    "data['Average_Credit_Card_Transaction'].median()"
   ]
  },
  {
   "cell_type": "code",
   "execution_count": 156,
   "metadata": {},
   "outputs": [
    {
     "data": {
      "text/plain": [
       "45-50      1098\n",
       "41-45       903\n",
       "36-40       895\n",
       "55-60       865\n",
       "31-35       840\n",
       "51-55       833\n",
       "26-30       735\n",
       "61-65       700\n",
       "65-70       468\n",
       "22-25       356\n",
       "71+         337\n",
       "18-21        50\n",
       "Unknown      44\n",
       "Name: age_band, dtype: int64"
      ]
     },
     "execution_count": 156,
     "metadata": {},
     "output_type": "execute_result"
    }
   ],
   "source": [
    "data['age_band'].value_counts()"
   ]
  },
  {
   "cell_type": "code",
   "execution_count": 157,
   "metadata": {},
   "outputs": [
    {
     "data": {
      "text/plain": [
       "4905.93"
      ]
     },
     "execution_count": 157,
     "metadata": {},
     "output_type": "execute_result"
    }
   ],
   "source": [
    "data['Personal_Loan'].max()"
   ]
  },
  {
   "cell_type": "code",
   "execution_count": 158,
   "metadata": {},
   "outputs": [
    {
     "data": {
      "text/plain": [
       "array(['2', 'Zero', '1', '3', '4+'], dtype=object)"
      ]
     },
     "execution_count": 158,
     "metadata": {},
     "output_type": "execute_result"
    }
   ],
   "source": [
    "data['children'].unique()"
   ]
  },
  {
   "cell_type": "code",
   "execution_count": 159,
   "metadata": {},
   "outputs": [
    {
     "data": {
      "text/plain": [
       "array(['31-35', '45-50', '36-40', '55-60', '61-65', '65-70', '41-45',\n",
       "       '51-55', '26-30', '22-25', '71+', 'Unknown', '18-21'], dtype=object)"
      ]
     },
     "execution_count": 159,
     "metadata": {},
     "output_type": "execute_result"
    }
   ],
   "source": [
    "data['age_band'].unique()"
   ]
  },
  {
   "cell_type": "code",
   "execution_count": null,
   "metadata": {},
   "outputs": [],
   "source": []
  },
  {
   "cell_type": "code",
   "execution_count": 160,
   "metadata": {},
   "outputs": [
    {
     "data": {
      "text/plain": [
       "<matplotlib.axes._subplots.AxesSubplot at 0x28d6547eb20>"
      ]
     },
     "execution_count": 160,
     "metadata": {},
     "output_type": "execute_result"
    },
    {
     "data": {
      "image/png": "[encoded data removed]",
      "text/plain": [
       "<Figure size 432x288 with 1 Axes>"
      ]
     },
     "metadata": {
      "needs_background": "light"
     },
     "output_type": "display_data"
    }
   ],
   "source": [
    "sns.distplot(data['Personal_Loan'])"
   ]
  },
  {
   "cell_type": "code",
   "execution_count": null,
   "metadata": {},
   "outputs": [],
   "source": []
  },
  {
   "cell_type": "code",
   "execution_count": 161,
   "metadata": {},
   "outputs": [
    {
     "data": {
      "text/plain": [
       "South East          1680\n",
       "North West          1517\n",
       "Unknown              866\n",
       "South West           769\n",
       "West Midlands        658\n",
       "East Midlands        623\n",
       "Scotland             615\n",
       "North                460\n",
       "Wales                437\n",
       "East Anglia          344\n",
       "Northern Ireland     135\n",
       "Isle of Man           15\n",
       "Channel Islands        5\n",
       "Name: region, dtype: int64"
      ]
     },
     "execution_count": 161,
     "metadata": {},
     "output_type": "execute_result"
    }
   ],
   "source": [
    "data['region'].value_counts()"
   ]
  },
  {
   "cell_type": "code",
   "execution_count": 162,
   "metadata": {},
   "outputs": [
    {
     "data": {
      "text/plain": [
       "Professional         1949\n",
       "Retired              1799\n",
       "Secretarial/Admin    1435\n",
       "Housewife             984\n",
       "Business Manager      578\n",
       "Manual Worker         451\n",
       "Unknown               449\n",
       "Other                 432\n",
       "Student                47\n",
       "Name: occupation, dtype: int64"
      ]
     },
     "execution_count": 162,
     "metadata": {},
     "output_type": "execute_result"
    }
   ],
   "source": [
    "data['occupation'].value_counts()"
   ]
  },
  {
   "cell_type": "code",
   "execution_count": 163,
   "metadata": {},
   "outputs": [
    {
     "data": {
      "text/plain": [
       "1799"
      ]
     },
     "execution_count": 163,
     "metadata": {},
     "output_type": "execute_result"
    }
   ],
   "source": [
    "data[data['occupation']=='Retired'].count()['occupation']"
   ]
  },
  {
   "cell_type": "code",
   "execution_count": 164,
   "metadata": {},
   "outputs": [
    {
     "data": {
      "text/plain": [
       "984"
      ]
     },
     "execution_count": 164,
     "metadata": {},
     "output_type": "execute_result"
    }
   ],
   "source": [
    "data[data['occupation']=='Housewife'].count()['occupation']"
   ]
  },
  {
   "cell_type": "code",
   "execution_count": 165,
   "metadata": {},
   "outputs": [
    {
     "data": {
      "text/plain": [
       "1949"
      ]
     },
     "execution_count": 165,
     "metadata": {},
     "output_type": "execute_result"
    }
   ],
   "source": [
    "data[data['occupation']=='Professional'].count()['occupation']"
   ]
  },
  {
   "cell_type": "code",
   "execution_count": 166,
   "metadata": {},
   "outputs": [
    {
     "data": {
      "text/plain": [
       "108"
      ]
     },
     "execution_count": 166,
     "metadata": {},
     "output_type": "execute_result"
    }
   ],
   "source": [
    "data[data['family_income']=='Unknown'].count()['family_income']"
   ]
  },
  {
   "cell_type": "code",
   "execution_count": 167,
   "metadata": {},
   "outputs": [
    {
     "data": {
      "text/plain": [
       "array(['>=35,000', '<22,500, >=20,000', '<25,000, >=22,500',\n",
       "       '<30,000, >=27,500', '<20,000, >=17,500', '<27,500, >=25,000',\n",
       "       '< 4,000', '<15,000, >=12,500', '<17,500, >=15,000',\n",
       "       '< 8,000, >= 4,000', '<12,500, >=10,000', '<10,000, >= 8,000',\n",
       "       'Unknown'], dtype=object)"
      ]
     },
     "execution_count": 167,
     "metadata": {},
     "output_type": "execute_result"
    }
   ],
   "source": [
    "data['family_income'].unique()"
   ]
  },
  {
   "cell_type": "code",
   "execution_count": 168,
   "metadata": {},
   "outputs": [],
   "source": [
    "from sklearn.preprocessing import LabelEncoder"
   ]
  },
  {
   "cell_type": "code",
   "execution_count": 169,
   "metadata": {},
   "outputs": [],
   "source": [
    "labelencoder=LabelEncoder()"
   ]
  },
  {
   "cell_type": "code",
   "execution_count": 170,
   "metadata": {},
   "outputs": [],
   "source": [
    "data[\"children_n\"]=labelencoder.fit_transform(data[\"children\"])"
   ]
  },
  {
   "cell_type": "code",
   "execution_count": 171,
   "metadata": {},
   "outputs": [],
   "source": [
    "data[\"age_band_n\"]=labelencoder.fit_transform(data[\"age_band\"])"
   ]
  },
  {
   "cell_type": "code",
   "execution_count": 172,
   "metadata": {},
   "outputs": [],
   "source": [
    "data[\"status_n\"]=labelencoder.fit_transform(data[\"status\"])"
   ]
  },
  {
   "cell_type": "code",
   "execution_count": 173,
   "metadata": {},
   "outputs": [],
   "source": [
    "data[\"occupation_n\"]=labelencoder.fit_transform(data[\"occupation\"])"
   ]
  },
  {
   "cell_type": "code",
   "execution_count": 174,
   "metadata": {},
   "outputs": [],
   "source": [
    "data[\"home_status_n\"]=labelencoder.fit_transform(data[\"home_status\"])"
   ]
  },
  {
   "cell_type": "code",
   "execution_count": 129,
   "metadata": {},
   "outputs": [],
   "source": [
    "data[\"family_income_n\"]=labelencoder.fit_transform(data[\"family_income\"])"
   ]
  },
  {
   "cell_type": "code",
   "execution_count": 175,
   "metadata": {},
   "outputs": [],
   "source": [
    "data[\"self_employed_n\"]=labelencoder.fit_transform(data[\"self_employed\"])"
   ]
  },
  {
   "cell_type": "code",
   "execution_count": 176,
   "metadata": {},
   "outputs": [],
   "source": [
    "data[\"self_employed_partner_n\"]=labelencoder.fit_transform(data[\"self_employed_partner\"])"
   ]
  },
  {
   "cell_type": "code",
   "execution_count": 133,
   "metadata": {},
   "outputs": [
    {
     "name": "stdout",
     "output_type": "stream",
     "text": [
      "<class 'pandas.core.frame.DataFrame'>\n",
      "RangeIndex: 8124 entries, 0 to 8123\n",
      "Data columns (total 40 columns):\n",
      " #   Column                           Non-Null Count  Dtype  \n",
      "---  ------                           --------------  -----  \n",
      " 0   REF_NO                           8124 non-null   int64  \n",
      " 1   children                         8124 non-null   object \n",
      " 2   age_band                         8124 non-null   object \n",
      " 3   status                           8124 non-null   object \n",
      " 4   occupation                       8124 non-null   object \n",
      " 5   occupation_partner               8124 non-null   object \n",
      " 6   home_status                      8124 non-null   object \n",
      " 7   family_income                    8124 non-null   object \n",
      " 8   self_employed                    8124 non-null   object \n",
      " 9   self_employed_partner            8124 non-null   object \n",
      " 10  year_last_moved                  8124 non-null   int64  \n",
      " 11  TVarea                           8124 non-null   object \n",
      " 12  post_code                        8124 non-null   object \n",
      " 13  post_area                        8124 non-null   object \n",
      " 14  Average_Credit_Card_Transaction  8124 non-null   float64\n",
      " 15  Balance_Transfer                 8124 non-null   float64\n",
      " 16  Term_Deposit                     8124 non-null   float64\n",
      " 17  Life_Insurance                   8124 non-null   float64\n",
      " 18  Medical_Insurance                8124 non-null   float64\n",
      " 19  Average_A/C_Balance              8124 non-null   float64\n",
      " 20  Personal_Loan                    8124 non-null   float64\n",
      " 21  Investment_in_Mutual_Fund        8124 non-null   float64\n",
      " 22  Investment_Tax_Saving_Bond       8124 non-null   float64\n",
      " 23  Home_Loan                        8124 non-null   float64\n",
      " 24  Online_Purchase_Amount           8124 non-null   float64\n",
      " 25  gender                           8124 non-null   object \n",
      " 26  region                           8124 non-null   object \n",
      " 27  Investment_in_Commudity          8124 non-null   float64\n",
      " 28  Investment_in_Equity             8124 non-null   float64\n",
      " 29  Investment_in_Derivative         8124 non-null   float64\n",
      " 30  Portfolio_Balance                8124 non-null   float64\n",
      " 31  Revenue_Grid                     8124 non-null   int64  \n",
      " 32  children_n                       8124 non-null   int32  \n",
      " 33  age_band_n                       8124 non-null   int32  \n",
      " 34  status_n                         8124 non-null   int32  \n",
      " 35  occupation_n                     8124 non-null   int32  \n",
      " 36  home_status_n                    8124 non-null   int32  \n",
      " 37  family_income_n                  8124 non-null   int32  \n",
      " 38  self_employed_n                  8124 non-null   int32  \n",
      " 39  self_employed_partner_n          8124 non-null   int32  \n",
      "dtypes: float64(15), int32(8), int64(3), object(14)\n",
      "memory usage: 2.2+ MB\n"
     ]
    }
   ],
   "source": [
    "data.info()"
   ]
  },
  {
   "cell_type": "code",
   "execution_count": 177,
   "metadata": {},
   "outputs": [],
   "source": [
    "data[\"TVarea_n\"]=labelencoder.fit_transform(data[\"TVarea\"])"
   ]
  },
  {
   "cell_type": "code",
   "execution_count": 178,
   "metadata": {},
   "outputs": [],
   "source": [
    "data[\"post_code_n\"]=labelencoder.fit_transform(data[\"post_code\"])"
   ]
  },
  {
   "cell_type": "code",
   "execution_count": 179,
   "metadata": {},
   "outputs": [],
   "source": [
    "data[\"post_area_n\"]=labelencoder.fit_transform(data[\"post_area\"])"
   ]
  },
  {
   "cell_type": "code",
   "execution_count": 180,
   "metadata": {},
   "outputs": [],
   "source": [
    "data[\"gender_n\"]=labelencoder.fit_transform(data[\"gender\"])"
   ]
  },
  {
   "cell_type": "code",
   "execution_count": 181,
   "metadata": {},
   "outputs": [],
   "source": [
    "data[\"region_n\"]=labelencoder.fit_transform(data[\"region\"])"
   ]
  },
  {
   "cell_type": "code",
   "execution_count": 200,
   "metadata": {},
   "outputs": [],
   "source": [
    "data.drop('children', axis=1, inplace=True)"
   ]
  },
  {
   "cell_type": "code",
   "execution_count": 201,
   "metadata": {},
   "outputs": [],
   "source": [
    "data.drop('age_band', axis=1, inplace=True)"
   ]
  },
  {
   "cell_type": "code",
   "execution_count": 202,
   "metadata": {},
   "outputs": [],
   "source": [
    "data.drop('status', axis=1, inplace=True)"
   ]
  },
  {
   "cell_type": "code",
   "execution_count": 203,
   "metadata": {},
   "outputs": [],
   "source": [
    "data.drop('occupation', axis=1, inplace=True)"
   ]
  },
  {
   "cell_type": "code",
   "execution_count": 204,
   "metadata": {},
   "outputs": [],
   "source": [
    "data.drop('occupation_partner', axis=1, inplace=True)"
   ]
  },
  {
   "cell_type": "code",
   "execution_count": 205,
   "metadata": {},
   "outputs": [],
   "source": [
    "data.drop('home_status', axis=1, inplace=True)"
   ]
  },
  {
   "cell_type": "code",
   "execution_count": 206,
   "metadata": {},
   "outputs": [],
   "source": [
    "data.drop('family_income', axis=1, inplace=True)"
   ]
  },
  {
   "cell_type": "code",
   "execution_count": 207,
   "metadata": {},
   "outputs": [],
   "source": [
    "data.drop('self_employed', axis=1, inplace=True)"
   ]
  },
  {
   "cell_type": "code",
   "execution_count": 208,
   "metadata": {},
   "outputs": [],
   "source": [
    "data.drop('self_employed_partner', axis=1, inplace=True)"
   ]
  },
  {
   "cell_type": "code",
   "execution_count": 209,
   "metadata": {},
   "outputs": [],
   "source": [
    "data.drop('TVarea', axis=1, inplace=True)"
   ]
  },
  {
   "cell_type": "code",
   "execution_count": 210,
   "metadata": {},
   "outputs": [],
   "source": [
    "data.drop('post_code', axis=1, inplace=True)"
   ]
  },
  {
   "cell_type": "code",
   "execution_count": 211,
   "metadata": {},
   "outputs": [],
   "source": [
    "data.drop('post_area', axis=1, inplace=True)"
   ]
  },
  {
   "cell_type": "code",
   "execution_count": 212,
   "metadata": {},
   "outputs": [],
   "source": [
    "data.drop('gender', axis=1, inplace=True)"
   ]
  },
  {
   "cell_type": "code",
   "execution_count": 213,
   "metadata": {},
   "outputs": [],
   "source": [
    "data.drop('region', axis=1, inplace=True)"
   ]
  },
  {
   "cell_type": "code",
   "execution_count": 214,
   "metadata": {},
   "outputs": [
    {
     "name": "stdout",
     "output_type": "stream",
     "text": [
      "<class 'pandas.core.frame.DataFrame'>\n",
      "RangeIndex: 8124 entries, 0 to 8123\n",
      "Data columns (total 30 columns):\n",
      " #   Column                           Non-Null Count  Dtype  \n",
      "---  ------                           --------------  -----  \n",
      " 0   REF_NO                           8124 non-null   int64  \n",
      " 1   year_last_moved                  8124 non-null   int64  \n",
      " 2   Average_Credit_Card_Transaction  8124 non-null   float64\n",
      " 3   Balance_Transfer                 8124 non-null   float64\n",
      " 4   Term_Deposit                     8124 non-null   float64\n",
      " 5   Life_Insurance                   8124 non-null   float64\n",
      " 6   Medical_Insurance                8124 non-null   float64\n",
      " 7   Average_A/C_Balance              8124 non-null   float64\n",
      " 8   Personal_Loan                    8124 non-null   float64\n",
      " 9   Investment_in_Mutual_Fund        8124 non-null   float64\n",
      " 10  Investment_Tax_Saving_Bond       8124 non-null   float64\n",
      " 11  Home_Loan                        8124 non-null   float64\n",
      " 12  Online_Purchase_Amount           8124 non-null   float64\n",
      " 13  Investment_in_Commudity          8124 non-null   float64\n",
      " 14  Investment_in_Equity             8124 non-null   float64\n",
      " 15  Investment_in_Derivative         8124 non-null   float64\n",
      " 16  Portfolio_Balance                8124 non-null   float64\n",
      " 17  Revenue_Grid                     8124 non-null   int64  \n",
      " 18  children_n                       8124 non-null   int32  \n",
      " 19  age_band_n                       8124 non-null   int32  \n",
      " 20  status_n                         8124 non-null   int32  \n",
      " 21  occupation_n                     8124 non-null   int32  \n",
      " 22  home_status_n                    8124 non-null   int32  \n",
      " 23  self_employed_n                  8124 non-null   int32  \n",
      " 24  self_employed_partner_n          8124 non-null   int32  \n",
      " 25  TVarea_n                         8124 non-null   int32  \n",
      " 26  post_code_n                      8124 non-null   int32  \n",
      " 27  post_area_n                      8124 non-null   int32  \n",
      " 28  gender_n                         8124 non-null   int32  \n",
      " 29  region_n                         8124 non-null   int32  \n",
      "dtypes: float64(15), int32(12), int64(3)\n",
      "memory usage: 1.5 MB\n"
     ]
    }
   ],
   "source": [
    "data.info()"
   ]
  },
  {
   "cell_type": "markdown",
   "metadata": {},
   "source": [
    "### Machine Learning Model using Logistic Regression"
   ]
  },
  {
   "cell_type": "code",
   "execution_count": 215,
   "metadata": {},
   "outputs": [],
   "source": [
    "from sklearn.model_selection import train_test_split"
   ]
  },
  {
   "cell_type": "code",
   "execution_count": 216,
   "metadata": {},
   "outputs": [],
   "source": [
    "X_train, X_test, y_train, y_test = train_test_split(data.drop('Revenue_Grid',axis=1), \n",
    "                                                    data['Revenue_Grid'], test_size=0.25, \n",
    "                                                    random_state=101)"
   ]
  },
  {
   "cell_type": "code",
   "execution_count": 189,
   "metadata": {},
   "outputs": [
    {
     "data": {
      "text/html": [
       "<div>\n",
       "<style scoped>\n",
       "    .dataframe tbody tr th:only-of-type {\n",
       "        vertical-align: middle;\n",
       "    }\n",
       "\n",
       "    .dataframe tbody tr th {\n",
       "        vertical-align: top;\n",
       "    }\n",
       "\n",
       "    .dataframe thead th {\n",
       "        text-align: right;\n",
       "    }\n",
       "</style>\n",
       "<table border=\"1\" class=\"dataframe\">\n",
       "  <thead>\n",
       "    <tr style=\"text-align: right;\">\n",
       "      <th></th>\n",
       "      <th>REF_NO</th>\n",
       "      <th>children</th>\n",
       "      <th>age_band</th>\n",
       "      <th>status</th>\n",
       "      <th>occupation</th>\n",
       "      <th>occupation_partner</th>\n",
       "      <th>home_status</th>\n",
       "      <th>family_income</th>\n",
       "      <th>self_employed</th>\n",
       "      <th>self_employed_partner</th>\n",
       "      <th>...</th>\n",
       "      <th>status_n</th>\n",
       "      <th>occupation_n</th>\n",
       "      <th>home_status_n</th>\n",
       "      <th>self_employed_n</th>\n",
       "      <th>self_employed_partner_n</th>\n",
       "      <th>TVarea_n</th>\n",
       "      <th>post_code_n</th>\n",
       "      <th>post_area_n</th>\n",
       "      <th>gender_n</th>\n",
       "      <th>region_n</th>\n",
       "    </tr>\n",
       "  </thead>\n",
       "  <tbody>\n",
       "    <tr>\n",
       "      <th>1938</th>\n",
       "      <td>2067</td>\n",
       "      <td>3</td>\n",
       "      <td>36-40</td>\n",
       "      <td>Partner</td>\n",
       "      <td>Secretarial/Admin</td>\n",
       "      <td>Business Manager</td>\n",
       "      <td>Own Home</td>\n",
       "      <td>&gt;=35,000</td>\n",
       "      <td>No</td>\n",
       "      <td>No</td>\n",
       "      <td>...</td>\n",
       "      <td>1</td>\n",
       "      <td>6</td>\n",
       "      <td>1</td>\n",
       "      <td>0</td>\n",
       "      <td>0</td>\n",
       "      <td>0</td>\n",
       "      <td>5651</td>\n",
       "      <td>1343</td>\n",
       "      <td>0</td>\n",
       "      <td>1</td>\n",
       "    </tr>\n",
       "    <tr>\n",
       "      <th>2305</th>\n",
       "      <td>9942</td>\n",
       "      <td>Zero</td>\n",
       "      <td>55-60</td>\n",
       "      <td>Partner</td>\n",
       "      <td>Retired</td>\n",
       "      <td>Retired</td>\n",
       "      <td>Own Home</td>\n",
       "      <td>&lt;27,500, &gt;=25,000</td>\n",
       "      <td>No</td>\n",
       "      <td>No</td>\n",
       "      <td>...</td>\n",
       "      <td>1</td>\n",
       "      <td>5</td>\n",
       "      <td>1</td>\n",
       "      <td>0</td>\n",
       "      <td>0</td>\n",
       "      <td>6</td>\n",
       "      <td>6464</td>\n",
       "      <td>1526</td>\n",
       "      <td>1</td>\n",
       "      <td>11</td>\n",
       "    </tr>\n",
       "    <tr>\n",
       "      <th>3212</th>\n",
       "      <td>11188</td>\n",
       "      <td>Zero</td>\n",
       "      <td>45-50</td>\n",
       "      <td>Partner</td>\n",
       "      <td>Professional</td>\n",
       "      <td>Secretarial/Admin</td>\n",
       "      <td>Own Home</td>\n",
       "      <td>&gt;=35,000</td>\n",
       "      <td>No</td>\n",
       "      <td>No</td>\n",
       "      <td>...</td>\n",
       "      <td>1</td>\n",
       "      <td>4</td>\n",
       "      <td>1</td>\n",
       "      <td>0</td>\n",
       "      <td>0</td>\n",
       "      <td>3</td>\n",
       "      <td>2134</td>\n",
       "      <td>535</td>\n",
       "      <td>1</td>\n",
       "      <td>12</td>\n",
       "    </tr>\n",
       "    <tr>\n",
       "      <th>1997</th>\n",
       "      <td>2873</td>\n",
       "      <td>2</td>\n",
       "      <td>45-50</td>\n",
       "      <td>Partner</td>\n",
       "      <td>Housewife</td>\n",
       "      <td>Manual Worker</td>\n",
       "      <td>Own Home</td>\n",
       "      <td>&lt;30,000, &gt;=27,500</td>\n",
       "      <td>No</td>\n",
       "      <td>No</td>\n",
       "      <td>...</td>\n",
       "      <td>1</td>\n",
       "      <td>1</td>\n",
       "      <td>1</td>\n",
       "      <td>0</td>\n",
       "      <td>0</td>\n",
       "      <td>3</td>\n",
       "      <td>6951</td>\n",
       "      <td>1648</td>\n",
       "      <td>0</td>\n",
       "      <td>12</td>\n",
       "    </tr>\n",
       "    <tr>\n",
       "      <th>764</th>\n",
       "      <td>5612</td>\n",
       "      <td>Zero</td>\n",
       "      <td>65-70</td>\n",
       "      <td>Widowed</td>\n",
       "      <td>Retired</td>\n",
       "      <td>Unknown</td>\n",
       "      <td>Own Home</td>\n",
       "      <td>&lt; 8,000, &gt;= 4,000</td>\n",
       "      <td>No</td>\n",
       "      <td>No</td>\n",
       "      <td>...</td>\n",
       "      <td>4</td>\n",
       "      <td>5</td>\n",
       "      <td>1</td>\n",
       "      <td>0</td>\n",
       "      <td>0</td>\n",
       "      <td>3</td>\n",
       "      <td>1578</td>\n",
       "      <td>393</td>\n",
       "      <td>0</td>\n",
       "      <td>12</td>\n",
       "    </tr>\n",
       "    <tr>\n",
       "      <th>...</th>\n",
       "      <td>...</td>\n",
       "      <td>...</td>\n",
       "      <td>...</td>\n",
       "      <td>...</td>\n",
       "      <td>...</td>\n",
       "      <td>...</td>\n",
       "      <td>...</td>\n",
       "      <td>...</td>\n",
       "      <td>...</td>\n",
       "      <td>...</td>\n",
       "      <td>...</td>\n",
       "      <td>...</td>\n",
       "      <td>...</td>\n",
       "      <td>...</td>\n",
       "      <td>...</td>\n",
       "      <td>...</td>\n",
       "      <td>...</td>\n",
       "      <td>...</td>\n",
       "      <td>...</td>\n",
       "      <td>...</td>\n",
       "      <td>...</td>\n",
       "    </tr>\n",
       "    <tr>\n",
       "      <th>5695</th>\n",
       "      <td>5683</td>\n",
       "      <td>Zero</td>\n",
       "      <td>51-55</td>\n",
       "      <td>Partner</td>\n",
       "      <td>Professional</td>\n",
       "      <td>Housewife</td>\n",
       "      <td>Own Home</td>\n",
       "      <td>&gt;=35,000</td>\n",
       "      <td>No</td>\n",
       "      <td>No</td>\n",
       "      <td>...</td>\n",
       "      <td>1</td>\n",
       "      <td>4</td>\n",
       "      <td>1</td>\n",
       "      <td>0</td>\n",
       "      <td>0</td>\n",
       "      <td>7</td>\n",
       "      <td>6728</td>\n",
       "      <td>1589</td>\n",
       "      <td>1</td>\n",
       "      <td>8</td>\n",
       "    </tr>\n",
       "    <tr>\n",
       "      <th>8006</th>\n",
       "      <td>10285</td>\n",
       "      <td>Zero</td>\n",
       "      <td>61-65</td>\n",
       "      <td>Partner</td>\n",
       "      <td>Retired</td>\n",
       "      <td>Retired</td>\n",
       "      <td>Own Home</td>\n",
       "      <td>&lt; 8,000, &gt;= 4,000</td>\n",
       "      <td>No</td>\n",
       "      <td>No</td>\n",
       "      <td>...</td>\n",
       "      <td>1</td>\n",
       "      <td>5</td>\n",
       "      <td>1</td>\n",
       "      <td>0</td>\n",
       "      <td>0</td>\n",
       "      <td>6</td>\n",
       "      <td>5299</td>\n",
       "      <td>1241</td>\n",
       "      <td>0</td>\n",
       "      <td>11</td>\n",
       "    </tr>\n",
       "    <tr>\n",
       "      <th>1361</th>\n",
       "      <td>5373</td>\n",
       "      <td>2</td>\n",
       "      <td>31-35</td>\n",
       "      <td>Partner</td>\n",
       "      <td>Secretarial/Admin</td>\n",
       "      <td>Manual Worker</td>\n",
       "      <td>Own Home</td>\n",
       "      <td>&lt;12,500, &gt;=10,000</td>\n",
       "      <td>No</td>\n",
       "      <td>Yes</td>\n",
       "      <td>...</td>\n",
       "      <td>1</td>\n",
       "      <td>6</td>\n",
       "      <td>1</td>\n",
       "      <td>0</td>\n",
       "      <td>1</td>\n",
       "      <td>8</td>\n",
       "      <td>5571</td>\n",
       "      <td>1318</td>\n",
       "      <td>0</td>\n",
       "      <td>7</td>\n",
       "    </tr>\n",
       "    <tr>\n",
       "      <th>1547</th>\n",
       "      <td>2430</td>\n",
       "      <td>Zero</td>\n",
       "      <td>51-55</td>\n",
       "      <td>Partner</td>\n",
       "      <td>Professional</td>\n",
       "      <td>Secretarial/Admin</td>\n",
       "      <td>Own Home</td>\n",
       "      <td>&gt;=35,000</td>\n",
       "      <td>Yes</td>\n",
       "      <td>No</td>\n",
       "      <td>...</td>\n",
       "      <td>1</td>\n",
       "      <td>4</td>\n",
       "      <td>1</td>\n",
       "      <td>1</td>\n",
       "      <td>0</td>\n",
       "      <td>2</td>\n",
       "      <td>6620</td>\n",
       "      <td>1566</td>\n",
       "      <td>1</td>\n",
       "      <td>8</td>\n",
       "    </tr>\n",
       "    <tr>\n",
       "      <th>4959</th>\n",
       "      <td>1665</td>\n",
       "      <td>Zero</td>\n",
       "      <td>61-65</td>\n",
       "      <td>Partner</td>\n",
       "      <td>Retired</td>\n",
       "      <td>Retired</td>\n",
       "      <td>Own Home</td>\n",
       "      <td>&lt;15,000, &gt;=12,500</td>\n",
       "      <td>No</td>\n",
       "      <td>No</td>\n",
       "      <td>...</td>\n",
       "      <td>1</td>\n",
       "      <td>5</td>\n",
       "      <td>1</td>\n",
       "      <td>0</td>\n",
       "      <td>0</td>\n",
       "      <td>2</td>\n",
       "      <td>5912</td>\n",
       "      <td>1427</td>\n",
       "      <td>1</td>\n",
       "      <td>5</td>\n",
       "    </tr>\n",
       "  </tbody>\n",
       "</table>\n",
       "<p>6093 rows × 43 columns</p>\n",
       "</div>"
      ],
      "text/plain": [
       "      REF_NO children age_band   status         occupation occupation_partner  \\\n",
       "1938    2067        3    36-40  Partner  Secretarial/Admin   Business Manager   \n",
       "2305    9942     Zero    55-60  Partner            Retired            Retired   \n",
       "3212   11188     Zero    45-50  Partner       Professional  Secretarial/Admin   \n",
       "1997    2873        2    45-50  Partner          Housewife      Manual Worker   \n",
       "764     5612     Zero    65-70  Widowed            Retired            Unknown   \n",
       "...      ...      ...      ...      ...                ...                ...   \n",
       "5695    5683     Zero    51-55  Partner       Professional          Housewife   \n",
       "8006   10285     Zero    61-65  Partner            Retired            Retired   \n",
       "1361    5373        2    31-35  Partner  Secretarial/Admin      Manual Worker   \n",
       "1547    2430     Zero    51-55  Partner       Professional  Secretarial/Admin   \n",
       "4959    1665     Zero    61-65  Partner            Retired            Retired   \n",
       "\n",
       "     home_status      family_income self_employed self_employed_partner  ...  \\\n",
       "1938    Own Home           >=35,000            No                    No  ...   \n",
       "2305    Own Home  <27,500, >=25,000            No                    No  ...   \n",
       "3212    Own Home           >=35,000            No                    No  ...   \n",
       "1997    Own Home  <30,000, >=27,500            No                    No  ...   \n",
       "764     Own Home  < 8,000, >= 4,000            No                    No  ...   \n",
       "...          ...                ...           ...                   ...  ...   \n",
       "5695    Own Home           >=35,000            No                    No  ...   \n",
       "8006    Own Home  < 8,000, >= 4,000            No                    No  ...   \n",
       "1361    Own Home  <12,500, >=10,000            No                   Yes  ...   \n",
       "1547    Own Home           >=35,000           Yes                    No  ...   \n",
       "4959    Own Home  <15,000, >=12,500            No                    No  ...   \n",
       "\n",
       "      status_n occupation_n home_status_n self_employed_n  \\\n",
       "1938         1            6             1               0   \n",
       "2305         1            5             1               0   \n",
       "3212         1            4             1               0   \n",
       "1997         1            1             1               0   \n",
       "764          4            5             1               0   \n",
       "...        ...          ...           ...             ...   \n",
       "5695         1            4             1               0   \n",
       "8006         1            5             1               0   \n",
       "1361         1            6             1               0   \n",
       "1547         1            4             1               1   \n",
       "4959         1            5             1               0   \n",
       "\n",
       "      self_employed_partner_n  TVarea_n  post_code_n  post_area_n  gender_n  \\\n",
       "1938                        0         0         5651         1343         0   \n",
       "2305                        0         6         6464         1526         1   \n",
       "3212                        0         3         2134          535         1   \n",
       "1997                        0         3         6951         1648         0   \n",
       "764                         0         3         1578          393         0   \n",
       "...                       ...       ...          ...          ...       ...   \n",
       "5695                        0         7         6728         1589         1   \n",
       "8006                        0         6         5299         1241         0   \n",
       "1361                        1         8         5571         1318         0   \n",
       "1547                        0         2         6620         1566         1   \n",
       "4959                        0         2         5912         1427         1   \n",
       "\n",
       "      region_n  \n",
       "1938         1  \n",
       "2305        11  \n",
       "3212        12  \n",
       "1997        12  \n",
       "764         12  \n",
       "...        ...  \n",
       "5695         8  \n",
       "8006        11  \n",
       "1361         7  \n",
       "1547         8  \n",
       "4959         5  \n",
       "\n",
       "[6093 rows x 43 columns]"
      ]
     },
     "execution_count": 189,
     "metadata": {},
     "output_type": "execute_result"
    }
   ],
   "source": [
    "X_train"
   ]
  },
  {
   "cell_type": "raw",
   "metadata": {},
   "source": [
    "y_train"
   ]
  },
  {
   "cell_type": "code",
   "execution_count": 185,
   "metadata": {},
   "outputs": [
    {
     "data": {
      "text/plain": [
       "2173    2\n",
       "1483    2\n",
       "7994    2\n",
       "3174    2\n",
       "387     2\n",
       "       ..\n",
       "5695    2\n",
       "8006    2\n",
       "1361    2\n",
       "1547    2\n",
       "4959    2\n",
       "Name: Revenue_Grid, Length: 5686, dtype: int64"
      ]
     },
     "execution_count": 185,
     "metadata": {},
     "output_type": "execute_result"
    }
   ],
   "source": [
    "y_train"
   ]
  },
  {
   "cell_type": "code",
   "execution_count": 217,
   "metadata": {},
   "outputs": [
    {
     "data": {
      "text/plain": [
       "4242    1\n",
       "2057    2\n",
       "4016    2\n",
       "7246    2\n",
       "7746    2\n",
       "       ..\n",
       "6958    2\n",
       "2996    1\n",
       "3213    2\n",
       "7176    2\n",
       "2627    2\n",
       "Name: Revenue_Grid, Length: 2031, dtype: int64"
      ]
     },
     "execution_count": 217,
     "metadata": {},
     "output_type": "execute_result"
    }
   ],
   "source": [
    "y_test"
   ]
  },
  {
   "cell_type": "code",
   "execution_count": 218,
   "metadata": {},
   "outputs": [],
   "source": [
    "from sklearn.linear_model import LogisticRegression"
   ]
  },
  {
   "cell_type": "code",
   "execution_count": 219,
   "metadata": {},
   "outputs": [],
   "source": [
    "logmodel = LogisticRegression()"
   ]
  },
  {
   "cell_type": "code",
   "execution_count": 220,
   "metadata": {},
   "outputs": [
    {
     "name": "stdout",
     "output_type": "stream",
     "text": [
      "<class 'pandas.core.frame.DataFrame'>\n",
      "Int64Index: 6093 entries, 1938 to 4959\n",
      "Data columns (total 29 columns):\n",
      " #   Column                           Non-Null Count  Dtype  \n",
      "---  ------                           --------------  -----  \n",
      " 0   REF_NO                           6093 non-null   int64  \n",
      " 1   year_last_moved                  6093 non-null   int64  \n",
      " 2   Average_Credit_Card_Transaction  6093 non-null   float64\n",
      " 3   Balance_Transfer                 6093 non-null   float64\n",
      " 4   Term_Deposit                     6093 non-null   float64\n",
      " 5   Life_Insurance                   6093 non-null   float64\n",
      " 6   Medical_Insurance                6093 non-null   float64\n",
      " 7   Average_A/C_Balance              6093 non-null   float64\n",
      " 8   Personal_Loan                    6093 non-null   float64\n",
      " 9   Investment_in_Mutual_Fund        6093 non-null   float64\n",
      " 10  Investment_Tax_Saving_Bond       6093 non-null   float64\n",
      " 11  Home_Loan                        6093 non-null   float64\n",
      " 12  Online_Purchase_Amount           6093 non-null   float64\n",
      " 13  Investment_in_Commudity          6093 non-null   float64\n",
      " 14  Investment_in_Equity             6093 non-null   float64\n",
      " 15  Investment_in_Derivative         6093 non-null   float64\n",
      " 16  Portfolio_Balance                6093 non-null   float64\n",
      " 17  children_n                       6093 non-null   int32  \n",
      " 18  age_band_n                       6093 non-null   int32  \n",
      " 19  status_n                         6093 non-null   int32  \n",
      " 20  occupation_n                     6093 non-null   int32  \n",
      " 21  home_status_n                    6093 non-null   int32  \n",
      " 22  self_employed_n                  6093 non-null   int32  \n",
      " 23  self_employed_partner_n          6093 non-null   int32  \n",
      " 24  TVarea_n                         6093 non-null   int32  \n",
      " 25  post_code_n                      6093 non-null   int32  \n",
      " 26  post_area_n                      6093 non-null   int32  \n",
      " 27  gender_n                         6093 non-null   int32  \n",
      " 28  region_n                         6093 non-null   int32  \n",
      "dtypes: float64(15), int32(12), int64(2)\n",
      "memory usage: 1.1 MB\n"
     ]
    }
   ],
   "source": [
    "X_train.info()"
   ]
  },
  {
   "cell_type": "code",
   "execution_count": null,
   "metadata": {},
   "outputs": [],
   "source": []
  },
  {
   "cell_type": "code",
   "execution_count": 221,
   "metadata": {},
   "outputs": [
    {
     "name": "stderr",
     "output_type": "stream",
     "text": [
      "D:\\Shraddha-study\\DS\\MYAnaconda\\lib\\site-packages\\sklearn\\linear_model\\_logistic.py:762: ConvergenceWarning: lbfgs failed to converge (status=1):\n",
      "STOP: TOTAL NO. of ITERATIONS REACHED LIMIT.\n",
      "\n",
      "Increase the number of iterations (max_iter) or scale the data as shown in:\n",
      "    https://scikit-learn.org/stable/modules/preprocessing.html\n",
      "Please also refer to the documentation for alternative solver options:\n",
      "    https://scikit-learn.org/stable/modules/linear_model.html#logistic-regression\n",
      "  n_iter_i = _check_optimize_result(\n"
     ]
    },
    {
     "data": {
      "text/plain": [
       "LogisticRegression()"
      ]
     },
     "execution_count": 221,
     "metadata": {},
     "output_type": "execute_result"
    }
   ],
   "source": [
    "logmodel.fit(X_train, y_train)"
   ]
  },
  {
   "cell_type": "code",
   "execution_count": 222,
   "metadata": {},
   "outputs": [],
   "source": [
    "predictions = logmodel.predict(X_test)"
   ]
  },
  {
   "cell_type": "code",
   "execution_count": 223,
   "metadata": {},
   "outputs": [
    {
     "data": {
      "text/html": [
       "<div>\n",
       "<style scoped>\n",
       "    .dataframe tbody tr th:only-of-type {\n",
       "        vertical-align: middle;\n",
       "    }\n",
       "\n",
       "    .dataframe tbody tr th {\n",
       "        vertical-align: top;\n",
       "    }\n",
       "\n",
       "    .dataframe thead th {\n",
       "        text-align: right;\n",
       "    }\n",
       "</style>\n",
       "<table border=\"1\" class=\"dataframe\">\n",
       "  <thead>\n",
       "    <tr style=\"text-align: right;\">\n",
       "      <th></th>\n",
       "      <th>REF_NO</th>\n",
       "      <th>year_last_moved</th>\n",
       "      <th>Average_Credit_Card_Transaction</th>\n",
       "      <th>Balance_Transfer</th>\n",
       "      <th>Term_Deposit</th>\n",
       "      <th>Life_Insurance</th>\n",
       "      <th>Medical_Insurance</th>\n",
       "      <th>Average_A/C_Balance</th>\n",
       "      <th>Personal_Loan</th>\n",
       "      <th>Investment_in_Mutual_Fund</th>\n",
       "      <th>...</th>\n",
       "      <th>status_n</th>\n",
       "      <th>occupation_n</th>\n",
       "      <th>home_status_n</th>\n",
       "      <th>self_employed_n</th>\n",
       "      <th>self_employed_partner_n</th>\n",
       "      <th>TVarea_n</th>\n",
       "      <th>post_code_n</th>\n",
       "      <th>post_area_n</th>\n",
       "      <th>gender_n</th>\n",
       "      <th>region_n</th>\n",
       "    </tr>\n",
       "  </thead>\n",
       "  <tbody>\n",
       "    <tr>\n",
       "      <th>4242</th>\n",
       "      <td>5026</td>\n",
       "      <td>1989</td>\n",
       "      <td>0.00</td>\n",
       "      <td>0.00</td>\n",
       "      <td>0.00</td>\n",
       "      <td>58.47</td>\n",
       "      <td>28.47</td>\n",
       "      <td>0.00</td>\n",
       "      <td>0.00</td>\n",
       "      <td>36.97</td>\n",
       "      <td>...</td>\n",
       "      <td>1</td>\n",
       "      <td>4</td>\n",
       "      <td>1</td>\n",
       "      <td>0</td>\n",
       "      <td>0</td>\n",
       "      <td>3</td>\n",
       "      <td>1502</td>\n",
       "      <td>380</td>\n",
       "      <td>1</td>\n",
       "      <td>12</td>\n",
       "    </tr>\n",
       "    <tr>\n",
       "      <th>2057</th>\n",
       "      <td>5795</td>\n",
       "      <td>1974</td>\n",
       "      <td>17.98</td>\n",
       "      <td>0.53</td>\n",
       "      <td>34.99</td>\n",
       "      <td>154.41</td>\n",
       "      <td>45.95</td>\n",
       "      <td>29.43</td>\n",
       "      <td>33.47</td>\n",
       "      <td>173.36</td>\n",
       "      <td>...</td>\n",
       "      <td>1</td>\n",
       "      <td>1</td>\n",
       "      <td>1</td>\n",
       "      <td>0</td>\n",
       "      <td>0</td>\n",
       "      <td>5</td>\n",
       "      <td>5442</td>\n",
       "      <td>1278</td>\n",
       "      <td>0</td>\n",
       "      <td>5</td>\n",
       "    </tr>\n",
       "    <tr>\n",
       "      <th>4016</th>\n",
       "      <td>4175</td>\n",
       "      <td>1969</td>\n",
       "      <td>0.00</td>\n",
       "      <td>29.99</td>\n",
       "      <td>0.00</td>\n",
       "      <td>0.00</td>\n",
       "      <td>20.95</td>\n",
       "      <td>94.32</td>\n",
       "      <td>0.00</td>\n",
       "      <td>174.32</td>\n",
       "      <td>...</td>\n",
       "      <td>2</td>\n",
       "      <td>7</td>\n",
       "      <td>1</td>\n",
       "      <td>0</td>\n",
       "      <td>0</td>\n",
       "      <td>8</td>\n",
       "      <td>2506</td>\n",
       "      <td>635</td>\n",
       "      <td>0</td>\n",
       "      <td>7</td>\n",
       "    </tr>\n",
       "    <tr>\n",
       "      <th>7246</th>\n",
       "      <td>9077</td>\n",
       "      <td>1994</td>\n",
       "      <td>0.00</td>\n",
       "      <td>0.00</td>\n",
       "      <td>0.00</td>\n",
       "      <td>0.00</td>\n",
       "      <td>34.99</td>\n",
       "      <td>0.00</td>\n",
       "      <td>0.00</td>\n",
       "      <td>0.00</td>\n",
       "      <td>...</td>\n",
       "      <td>1</td>\n",
       "      <td>4</td>\n",
       "      <td>1</td>\n",
       "      <td>0</td>\n",
       "      <td>0</td>\n",
       "      <td>13</td>\n",
       "      <td>7752</td>\n",
       "      <td>1862</td>\n",
       "      <td>0</td>\n",
       "      <td>10</td>\n",
       "    </tr>\n",
       "    <tr>\n",
       "      <th>7746</th>\n",
       "      <td>5933</td>\n",
       "      <td>1979</td>\n",
       "      <td>0.00</td>\n",
       "      <td>34.97</td>\n",
       "      <td>6.49</td>\n",
       "      <td>52.43</td>\n",
       "      <td>0.00</td>\n",
       "      <td>30.93</td>\n",
       "      <td>74.94</td>\n",
       "      <td>116.50</td>\n",
       "      <td>...</td>\n",
       "      <td>1</td>\n",
       "      <td>4</td>\n",
       "      <td>1</td>\n",
       "      <td>0</td>\n",
       "      <td>1</td>\n",
       "      <td>5</td>\n",
       "      <td>7804</td>\n",
       "      <td>1871</td>\n",
       "      <td>0</td>\n",
       "      <td>5</td>\n",
       "    </tr>\n",
       "    <tr>\n",
       "      <th>...</th>\n",
       "      <td>...</td>\n",
       "      <td>...</td>\n",
       "      <td>...</td>\n",
       "      <td>...</td>\n",
       "      <td>...</td>\n",
       "      <td>...</td>\n",
       "      <td>...</td>\n",
       "      <td>...</td>\n",
       "      <td>...</td>\n",
       "      <td>...</td>\n",
       "      <td>...</td>\n",
       "      <td>...</td>\n",
       "      <td>...</td>\n",
       "      <td>...</td>\n",
       "      <td>...</td>\n",
       "      <td>...</td>\n",
       "      <td>...</td>\n",
       "      <td>...</td>\n",
       "      <td>...</td>\n",
       "      <td>...</td>\n",
       "      <td>...</td>\n",
       "    </tr>\n",
       "    <tr>\n",
       "      <th>6958</th>\n",
       "      <td>4716</td>\n",
       "      <td>1985</td>\n",
       "      <td>0.00</td>\n",
       "      <td>131.94</td>\n",
       "      <td>0.00</td>\n",
       "      <td>144.43</td>\n",
       "      <td>11.00</td>\n",
       "      <td>130.24</td>\n",
       "      <td>180.39</td>\n",
       "      <td>282.28</td>\n",
       "      <td>...</td>\n",
       "      <td>1</td>\n",
       "      <td>1</td>\n",
       "      <td>1</td>\n",
       "      <td>0</td>\n",
       "      <td>0</td>\n",
       "      <td>7</td>\n",
       "      <td>1441</td>\n",
       "      <td>361</td>\n",
       "      <td>0</td>\n",
       "      <td>8</td>\n",
       "    </tr>\n",
       "    <tr>\n",
       "      <th>2996</th>\n",
       "      <td>2259</td>\n",
       "      <td>1986</td>\n",
       "      <td>0.00</td>\n",
       "      <td>121.96</td>\n",
       "      <td>0.00</td>\n",
       "      <td>109.45</td>\n",
       "      <td>0.00</td>\n",
       "      <td>0.00</td>\n",
       "      <td>0.00</td>\n",
       "      <td>14.99</td>\n",
       "      <td>...</td>\n",
       "      <td>2</td>\n",
       "      <td>4</td>\n",
       "      <td>1</td>\n",
       "      <td>0</td>\n",
       "      <td>0</td>\n",
       "      <td>2</td>\n",
       "      <td>4848</td>\n",
       "      <td>1145</td>\n",
       "      <td>1</td>\n",
       "      <td>8</td>\n",
       "    </tr>\n",
       "    <tr>\n",
       "      <th>3213</th>\n",
       "      <td>9818</td>\n",
       "      <td>1998</td>\n",
       "      <td>0.00</td>\n",
       "      <td>0.00</td>\n",
       "      <td>0.00</td>\n",
       "      <td>0.00</td>\n",
       "      <td>39.48</td>\n",
       "      <td>0.00</td>\n",
       "      <td>0.00</td>\n",
       "      <td>0.00</td>\n",
       "      <td>...</td>\n",
       "      <td>1</td>\n",
       "      <td>1</td>\n",
       "      <td>1</td>\n",
       "      <td>0</td>\n",
       "      <td>0</td>\n",
       "      <td>7</td>\n",
       "      <td>5818</td>\n",
       "      <td>1403</td>\n",
       "      <td>0</td>\n",
       "      <td>8</td>\n",
       "    </tr>\n",
       "    <tr>\n",
       "      <th>7176</th>\n",
       "      <td>10808</td>\n",
       "      <td>1990</td>\n",
       "      <td>10.99</td>\n",
       "      <td>31.48</td>\n",
       "      <td>19.49</td>\n",
       "      <td>75.93</td>\n",
       "      <td>0.00</td>\n",
       "      <td>57.97</td>\n",
       "      <td>15.99</td>\n",
       "      <td>59.46</td>\n",
       "      <td>...</td>\n",
       "      <td>2</td>\n",
       "      <td>8</td>\n",
       "      <td>1</td>\n",
       "      <td>1</td>\n",
       "      <td>1</td>\n",
       "      <td>3</td>\n",
       "      <td>5072</td>\n",
       "      <td>1197</td>\n",
       "      <td>0</td>\n",
       "      <td>2</td>\n",
       "    </tr>\n",
       "    <tr>\n",
       "      <th>2627</th>\n",
       "      <td>8664</td>\n",
       "      <td>1997</td>\n",
       "      <td>84.96</td>\n",
       "      <td>157.95</td>\n",
       "      <td>410.83</td>\n",
       "      <td>268.89</td>\n",
       "      <td>117.97</td>\n",
       "      <td>44.41</td>\n",
       "      <td>0.00</td>\n",
       "      <td>216.97</td>\n",
       "      <td>...</td>\n",
       "      <td>2</td>\n",
       "      <td>4</td>\n",
       "      <td>1</td>\n",
       "      <td>1</td>\n",
       "      <td>1</td>\n",
       "      <td>5</td>\n",
       "      <td>1217</td>\n",
       "      <td>299</td>\n",
       "      <td>0</td>\n",
       "      <td>5</td>\n",
       "    </tr>\n",
       "  </tbody>\n",
       "</table>\n",
       "<p>2031 rows × 29 columns</p>\n",
       "</div>"
      ],
      "text/plain": [
       "      REF_NO  year_last_moved  Average_Credit_Card_Transaction  \\\n",
       "4242    5026             1989                             0.00   \n",
       "2057    5795             1974                            17.98   \n",
       "4016    4175             1969                             0.00   \n",
       "7246    9077             1994                             0.00   \n",
       "7746    5933             1979                             0.00   \n",
       "...      ...              ...                              ...   \n",
       "6958    4716             1985                             0.00   \n",
       "2996    2259             1986                             0.00   \n",
       "3213    9818             1998                             0.00   \n",
       "7176   10808             1990                            10.99   \n",
       "2627    8664             1997                            84.96   \n",
       "\n",
       "      Balance_Transfer  Term_Deposit  Life_Insurance  Medical_Insurance  \\\n",
       "4242              0.00          0.00           58.47              28.47   \n",
       "2057              0.53         34.99          154.41              45.95   \n",
       "4016             29.99          0.00            0.00              20.95   \n",
       "7246              0.00          0.00            0.00              34.99   \n",
       "7746             34.97          6.49           52.43               0.00   \n",
       "...                ...           ...             ...                ...   \n",
       "6958            131.94          0.00          144.43              11.00   \n",
       "2996            121.96          0.00          109.45               0.00   \n",
       "3213              0.00          0.00            0.00              39.48   \n",
       "7176             31.48         19.49           75.93               0.00   \n",
       "2627            157.95        410.83          268.89             117.97   \n",
       "\n",
       "      Average_A/C_Balance  Personal_Loan  Investment_in_Mutual_Fund  ...  \\\n",
       "4242                 0.00           0.00                      36.97  ...   \n",
       "2057                29.43          33.47                     173.36  ...   \n",
       "4016                94.32           0.00                     174.32  ...   \n",
       "7246                 0.00           0.00                       0.00  ...   \n",
       "7746                30.93          74.94                     116.50  ...   \n",
       "...                   ...            ...                        ...  ...   \n",
       "6958               130.24         180.39                     282.28  ...   \n",
       "2996                 0.00           0.00                      14.99  ...   \n",
       "3213                 0.00           0.00                       0.00  ...   \n",
       "7176                57.97          15.99                      59.46  ...   \n",
       "2627                44.41           0.00                     216.97  ...   \n",
       "\n",
       "      status_n  occupation_n  home_status_n  self_employed_n  \\\n",
       "4242         1             4              1                0   \n",
       "2057         1             1              1                0   \n",
       "4016         2             7              1                0   \n",
       "7246         1             4              1                0   \n",
       "7746         1             4              1                0   \n",
       "...        ...           ...            ...              ...   \n",
       "6958         1             1              1                0   \n",
       "2996         2             4              1                0   \n",
       "3213         1             1              1                0   \n",
       "7176         2             8              1                1   \n",
       "2627         2             4              1                1   \n",
       "\n",
       "      self_employed_partner_n  TVarea_n  post_code_n  post_area_n  gender_n  \\\n",
       "4242                        0         3         1502          380         1   \n",
       "2057                        0         5         5442         1278         0   \n",
       "4016                        0         8         2506          635         0   \n",
       "7246                        0        13         7752         1862         0   \n",
       "7746                        1         5         7804         1871         0   \n",
       "...                       ...       ...          ...          ...       ...   \n",
       "6958                        0         7         1441          361         0   \n",
       "2996                        0         2         4848         1145         1   \n",
       "3213                        0         7         5818         1403         0   \n",
       "7176                        1         3         5072         1197         0   \n",
       "2627                        1         5         1217          299         0   \n",
       "\n",
       "      region_n  \n",
       "4242        12  \n",
       "2057         5  \n",
       "4016         7  \n",
       "7246        10  \n",
       "7746         5  \n",
       "...        ...  \n",
       "6958         8  \n",
       "2996         8  \n",
       "3213         8  \n",
       "7176         2  \n",
       "2627         5  \n",
       "\n",
       "[2031 rows x 29 columns]"
      ]
     },
     "execution_count": 223,
     "metadata": {},
     "output_type": "execute_result"
    }
   ],
   "source": [
    "X_test"
   ]
  },
  {
   "cell_type": "code",
   "execution_count": 224,
   "metadata": {},
   "outputs": [
    {
     "data": {
      "text/plain": [
       "4242    1\n",
       "2057    2\n",
       "4016    2\n",
       "7246    2\n",
       "7746    2\n",
       "       ..\n",
       "6958    2\n",
       "2996    1\n",
       "3213    2\n",
       "7176    2\n",
       "2627    2\n",
       "Name: Revenue_Grid, Length: 2031, dtype: int64"
      ]
     },
     "execution_count": 224,
     "metadata": {},
     "output_type": "execute_result"
    }
   ],
   "source": [
    "y_test"
   ]
  },
  {
   "cell_type": "code",
   "execution_count": 225,
   "metadata": {},
   "outputs": [
    {
     "data": {
      "text/plain": [
       "array([1, 2], dtype=int64)"
      ]
     },
     "execution_count": 225,
     "metadata": {},
     "output_type": "execute_result"
    }
   ],
   "source": [
    "y_test.unique()"
   ]
  },
  {
   "cell_type": "code",
   "execution_count": 226,
   "metadata": {},
   "outputs": [
    {
     "data": {
      "text/plain": [
       "4242    1\n",
       "2057    2\n",
       "4016    2\n",
       "7246    2\n",
       "7746    2\n",
       "Name: Revenue_Grid, dtype: int64"
      ]
     },
     "execution_count": 226,
     "metadata": {},
     "output_type": "execute_result"
    }
   ],
   "source": [
    "y_test.head()"
   ]
  },
  {
   "cell_type": "code",
   "execution_count": 227,
   "metadata": {},
   "outputs": [],
   "source": [
    "from sklearn.metrics import classification_report"
   ]
  },
  {
   "cell_type": "code",
   "execution_count": 228,
   "metadata": {},
   "outputs": [
    {
     "name": "stdout",
     "output_type": "stream",
     "text": [
      "              precision    recall  f1-score   support\n",
      "\n",
      "           1       0.84      0.52      0.64       223\n",
      "           2       0.94      0.99      0.97      1808\n",
      "\n",
      "    accuracy                           0.94      2031\n",
      "   macro avg       0.89      0.75      0.80      2031\n",
      "weighted avg       0.93      0.94      0.93      2031\n",
      "\n"
     ]
    }
   ],
   "source": [
    "print(classification_report(y_test,predictions))"
   ]
  },
  {
   "cell_type": "code",
   "execution_count": 235,
   "metadata": {},
   "outputs": [],
   "source": [
    "A=X_test[\"REF_NO\"]"
   ]
  },
  {
   "cell_type": "code",
   "execution_count": 238,
   "metadata": {},
   "outputs": [],
   "source": [
    "B=y_test"
   ]
  },
  {
   "cell_type": "code",
   "execution_count": 240,
   "metadata": {},
   "outputs": [],
   "source": [
    "sample_df=pd.concat([A,B], axis=1)"
   ]
  },
  {
   "cell_type": "code",
   "execution_count": 241,
   "metadata": {},
   "outputs": [
    {
     "data": {
      "text/html": [
       "<div>\n",
       "<style scoped>\n",
       "    .dataframe tbody tr th:only-of-type {\n",
       "        vertical-align: middle;\n",
       "    }\n",
       "\n",
       "    .dataframe tbody tr th {\n",
       "        vertical-align: top;\n",
       "    }\n",
       "\n",
       "    .dataframe thead th {\n",
       "        text-align: right;\n",
       "    }\n",
       "</style>\n",
       "<table border=\"1\" class=\"dataframe\">\n",
       "  <thead>\n",
       "    <tr style=\"text-align: right;\">\n",
       "      <th></th>\n",
       "      <th>REF_NO</th>\n",
       "      <th>Revenue_Grid</th>\n",
       "    </tr>\n",
       "  </thead>\n",
       "  <tbody>\n",
       "    <tr>\n",
       "      <th>4242</th>\n",
       "      <td>5026</td>\n",
       "      <td>1</td>\n",
       "    </tr>\n",
       "    <tr>\n",
       "      <th>2057</th>\n",
       "      <td>5795</td>\n",
       "      <td>2</td>\n",
       "    </tr>\n",
       "    <tr>\n",
       "      <th>4016</th>\n",
       "      <td>4175</td>\n",
       "      <td>2</td>\n",
       "    </tr>\n",
       "    <tr>\n",
       "      <th>7246</th>\n",
       "      <td>9077</td>\n",
       "      <td>2</td>\n",
       "    </tr>\n",
       "    <tr>\n",
       "      <th>7746</th>\n",
       "      <td>5933</td>\n",
       "      <td>2</td>\n",
       "    </tr>\n",
       "  </tbody>\n",
       "</table>\n",
       "</div>"
      ],
      "text/plain": [
       "      REF_NO  Revenue_Grid\n",
       "4242    5026             1\n",
       "2057    5795             2\n",
       "4016    4175             2\n",
       "7246    9077             2\n",
       "7746    5933             2"
      ]
     },
     "execution_count": 241,
     "metadata": {},
     "output_type": "execute_result"
    }
   ],
   "source": [
    "sample_df.head()"
   ]
  },
  {
   "cell_type": "code",
   "execution_count": 243,
   "metadata": {},
   "outputs": [
    {
     "data": {
      "text/html": [
       "<div>\n",
       "<style scoped>\n",
       "    .dataframe tbody tr th:only-of-type {\n",
       "        vertical-align: middle;\n",
       "    }\n",
       "\n",
       "    .dataframe tbody tr th {\n",
       "        vertical-align: top;\n",
       "    }\n",
       "\n",
       "    .dataframe thead th {\n",
       "        text-align: right;\n",
       "    }\n",
       "</style>\n",
       "<table border=\"1\" class=\"dataframe\">\n",
       "  <thead>\n",
       "    <tr style=\"text-align: right;\">\n",
       "      <th></th>\n",
       "      <th>REF_NO</th>\n",
       "      <th>Revenue_Grid</th>\n",
       "    </tr>\n",
       "  </thead>\n",
       "  <tbody>\n",
       "    <tr>\n",
       "      <th>4242</th>\n",
       "      <td>5026</td>\n",
       "      <td>1</td>\n",
       "    </tr>\n",
       "    <tr>\n",
       "      <th>2057</th>\n",
       "      <td>5795</td>\n",
       "      <td>2</td>\n",
       "    </tr>\n",
       "    <tr>\n",
       "      <th>4016</th>\n",
       "      <td>4175</td>\n",
       "      <td>2</td>\n",
       "    </tr>\n",
       "    <tr>\n",
       "      <th>7246</th>\n",
       "      <td>9077</td>\n",
       "      <td>2</td>\n",
       "    </tr>\n",
       "    <tr>\n",
       "      <th>7746</th>\n",
       "      <td>5933</td>\n",
       "      <td>2</td>\n",
       "    </tr>\n",
       "    <tr>\n",
       "      <th>...</th>\n",
       "      <td>...</td>\n",
       "      <td>...</td>\n",
       "    </tr>\n",
       "    <tr>\n",
       "      <th>6958</th>\n",
       "      <td>4716</td>\n",
       "      <td>2</td>\n",
       "    </tr>\n",
       "    <tr>\n",
       "      <th>2996</th>\n",
       "      <td>2259</td>\n",
       "      <td>1</td>\n",
       "    </tr>\n",
       "    <tr>\n",
       "      <th>3213</th>\n",
       "      <td>9818</td>\n",
       "      <td>2</td>\n",
       "    </tr>\n",
       "    <tr>\n",
       "      <th>7176</th>\n",
       "      <td>10808</td>\n",
       "      <td>2</td>\n",
       "    </tr>\n",
       "    <tr>\n",
       "      <th>2627</th>\n",
       "      <td>8664</td>\n",
       "      <td>2</td>\n",
       "    </tr>\n",
       "  </tbody>\n",
       "</table>\n",
       "<p>2031 rows × 2 columns</p>\n",
       "</div>"
      ],
      "text/plain": [
       "      REF_NO  Revenue_Grid\n",
       "4242    5026             1\n",
       "2057    5795             2\n",
       "4016    4175             2\n",
       "7246    9077             2\n",
       "7746    5933             2\n",
       "...      ...           ...\n",
       "6958    4716             2\n",
       "2996    2259             1\n",
       "3213    9818             2\n",
       "7176   10808             2\n",
       "2627    8664             2\n",
       "\n",
       "[2031 rows x 2 columns]"
      ]
     },
     "execution_count": 243,
     "metadata": {},
     "output_type": "execute_result"
    }
   ],
   "source": [
    "sample_df"
   ]
  },
  {
   "cell_type": "code",
   "execution_count": 245,
   "metadata": {},
   "outputs": [],
   "source": [
    "sample_df.to_csv('submission.csv', index=False, header=False)"
   ]
  }
 ],
 "metadata": {
  "kernelspec": {
   "display_name": "Python 3",
   "language": "python",
   "name": "python3"
  },
  "language_info": {
   "codemirror_mode": {
    "name": "ipython",
    "version": 3
   },
   "file_extension": ".py",
   "mimetype": "text/x-python",
   "name": "python",
   "nbconvert_exporter": "python",
   "pygments_lexer": "ipython3",
   "version": "3.8.3"
  }
 },
 "nbformat": 4,
 "nbformat_minor": 4
}
