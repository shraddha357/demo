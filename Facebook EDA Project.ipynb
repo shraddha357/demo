{
 "cells": [
  {
   "attachments": {
    "fb.png": {
     "image/png": "[encoded data removed]"
    }
   },
   "cell_type": "markdown",
   "metadata": {},
   "source": [
    "   ## EDA Project on Facebook Database\n",
    "   ![fb.png](attachment:fb.png)\n",
    "                                       \n"
   ]
  },
  {
   "cell_type": "markdown",
   "metadata": {},
   "source": [
    "## Table Of Contents:\n",
    "\n",
    "1. [Problem Statement](#section1)<br>\n",
    "2. [Importing Packages](#section2)<br>\n",
    "3. [Loading Data](#section3)<br>\n",
    "4. [Data Description](#section4)<br>\n",
    "5. [Pandas Profiling before Data Pre-processing](#section 5)<br>"
   ]
  },
  {
   "cell_type": "markdown",
   "metadata": {},
   "source": [
    "<a id=section1></a>\n",
    "## 1. Problem Statement\n",
    "\n",
    "Facebook is an American online social media and social networking service based in Menlo Park, California and a flagship service of the namesake company Facebook, Inc. It was founded by Mark Zuckerberg, along with fellow Harvard College students and roommates Eduardo Saverin, Andrew McCollum, Dustin Moskovitz and Chris Hughes.\n",
    "\n"
   ]
  },
  {
   "cell_type": "markdown",
   "metadata": {},
   "source": [
    "<a id=section2></a>\n",
    "## 2. Importing Packages"
   ]
  },
  {
   "cell_type": "code",
   "execution_count": 1,
   "metadata": {},
   "outputs": [],
   "source": [
    "import numpy as np\n",
    "import pandas as pd\n",
    "import warnings\n",
    "warnings.filterwarnings('ignore')\n",
    "import matplotlib.pyplot as plt\n",
    "%matplotlib inline\n",
    "import seaborn as sns\n"
   ]
  },
  {
   "cell_type": "code",
   "execution_count": 2,
   "metadata": {},
   "outputs": [
    {
     "name": "stdout",
     "output_type": "stream",
     "text": [
      "Requirement already satisfied: chart-studio in c:\\users\\kavita\\anaconda3\\lib\\site-packages (1.1.0)\n",
      "Requirement already satisfied: plotly in c:\\users\\kavita\\anaconda3\\lib\\site-packages (from chart-studio) (4.8.0)\n",
      "Requirement already satisfied: six in c:\\users\\kavita\\anaconda3\\lib\\site-packages (from chart-studio) (1.14.0)\n",
      "Requirement already satisfied: requests in c:\\users\\kavita\\anaconda3\\lib\\site-packages (from chart-studio) (2.22.0)\n",
      "Requirement already satisfied: retrying>=1.3.3 in c:\\users\\kavita\\anaconda3\\lib\\site-packages (from chart-studio) (1.3.3)\n",
      "Requirement already satisfied: idna<2.9,>=2.5 in c:\\users\\kavita\\anaconda3\\lib\\site-packages (from requests->chart-studio) (2.8)\n",
      "Requirement already satisfied: certifi>=2017.4.17 in c:\\users\\kavita\\anaconda3\\lib\\site-packages (from requests->chart-studio) (2019.11.28)\n",
      "Requirement already satisfied: chardet<3.1.0,>=3.0.2 in c:\\users\\kavita\\anaconda3\\lib\\site-packages (from requests->chart-studio) (3.0.4)\n",
      "Requirement already satisfied: urllib3!=1.25.0,!=1.25.1,<1.26,>=1.21.1 in c:\\users\\kavita\\anaconda3\\lib\\site-packages (from requests->chart-studio) (1.25.8)\n"
     ]
    }
   ],
   "source": [
    "!pip install chart-studio\n"
   ]
  },
  {
   "cell_type": "code",
   "execution_count": 3,
   "metadata": {
    "scrolled": false
   },
   "outputs": [],
   "source": [
    "#!pip install pandas-profiling --upgrade"
   ]
  },
  {
   "cell_type": "code",
   "execution_count": 4,
   "metadata": {},
   "outputs": [],
   "source": [
    "#import sys\n",
    "#!{sys.executable} -m pip install pandas-profiling"
   ]
  },
  {
   "cell_type": "code",
   "execution_count": 8,
   "metadata": {
    "scrolled": true
   },
   "outputs": [
    {
     "name": "stdout",
     "output_type": "stream",
     "text": [
      "Note: you may need to restart the kernel to use updated packages.\n"
     ]
    },
    {
     "name": "stderr",
     "output_type": "stream",
     "text": [
      "\n",
      "Usage:   \n",
      "  C:\\Users\\Kavita\\anaconda3\\python.exe -m pip <command> [options]\n",
      "\n",
      "no such option: -a\n"
     ]
    }
   ],
   "source": [
    "#pip-autoremove"
   ]
  },
  {
   "cell_type": "code",
   "execution_count": 1,
   "metadata": {},
   "outputs": [
    {
     "name": "stdout",
     "output_type": "stream",
     "text": [
      "Collecting pip-autoremoveNote: you may need to restart the kernel to use updated packages.\n",
      "  Downloading pip_autoremove-0.9.1-py2.py3-none-any.whl (3.8 kB)\n",
      "Installing collected packages: pip-autoremove\n",
      "Successfully installed pip-autoremove-0.9.1\n",
      "\n"
     ]
    }
   ],
   "source": [
    "#pip install pip-autoremove"
   ]
  },
  {
   "cell_type": "code",
   "execution_count": 2,
   "metadata": {},
   "outputs": [
    {
     "name": "stdout",
     "output_type": "stream",
     "text": [
      "Note: you may need to restart the kernel to use updated packages.\n"
     ]
    },
    {
     "name": "stderr",
     "output_type": "stream",
     "text": [
      "\n",
      "Usage:   \n",
      "  C:\\Users\\Kavita\\anaconda3\\python.exe -m pip <command> [options]\n",
      "\n",
      "no such option: -a\n"
     ]
    }
   ],
   "source": [
    "#pip-autoremove pandas -y"
   ]
  },
  {
   "cell_type": "code",
   "execution_count": 3,
   "metadata": {},
   "outputs": [
    {
     "name": "stdout",
     "output_type": "stream",
     "text": [
      "Requirement already satisfied: pandas in c:\\users\\kavita\\anaconda3\\lib\\site-packages (1.0.3)\n",
      "Requirement already satisfied: pytz>=2017.2 in c:\\users\\kavita\\anaconda3\\lib\\site-packages (from pandas) (2020.1)\n",
      "Requirement already satisfied: numpy>=1.13.3 in c:\\users\\kavita\\anaconda3\\lib\\site-packages (from pandas) (1.18.1)\n",
      "Requirement already satisfied: python-dateutil>=2.6.1 in c:\\users\\kavita\\anaconda3\\lib\\site-packages (from pandas) (2.8.1)\n",
      "Requirement already satisfied: six>=1.5 in c:\\users\\kavita\\anaconda3\\lib\\site-packages (from python-dateutil>=2.6.1->pandas) (1.14.0)\n",
      "Note: you may need to restart the kernel to use updated packages.\n"
     ]
    }
   ],
   "source": [
    "#pip install pandas"
   ]
  },
  {
   "cell_type": "markdown",
   "metadata": {},
   "source": [
    "<a id=section3></a>\n",
    "## 3. Loading Data "
   ]
  },
  {
   "cell_type": "code",
   "execution_count": 2,
   "metadata": {},
   "outputs": [
    {
     "data": {
      "text/html": [
       "<div>\n",
       "<style scoped>\n",
       "    .dataframe tbody tr th:only-of-type {\n",
       "        vertical-align: middle;\n",
       "    }\n",
       "\n",
       "    .dataframe tbody tr th {\n",
       "        vertical-align: top;\n",
       "    }\n",
       "\n",
       "    .dataframe thead th {\n",
       "        text-align: right;\n",
       "    }\n",
       "</style>\n",
       "<table border=\"1\" class=\"dataframe\">\n",
       "  <thead>\n",
       "    <tr style=\"text-align: right;\">\n",
       "      <th></th>\n",
       "      <th>userid</th>\n",
       "      <th>age</th>\n",
       "      <th>dob_day</th>\n",
       "      <th>dob_year</th>\n",
       "      <th>dob_month</th>\n",
       "      <th>gender</th>\n",
       "      <th>tenure</th>\n",
       "      <th>friend_count</th>\n",
       "      <th>friendships_initiated</th>\n",
       "      <th>likes</th>\n",
       "      <th>likes_received</th>\n",
       "      <th>mobile_likes</th>\n",
       "      <th>mobile_likes_received</th>\n",
       "      <th>www_likes</th>\n",
       "      <th>www_likes_received</th>\n",
       "    </tr>\n",
       "  </thead>\n",
       "  <tbody>\n",
       "    <tr>\n",
       "      <th>0</th>\n",
       "      <td>2094382</td>\n",
       "      <td>14</td>\n",
       "      <td>19</td>\n",
       "      <td>1999</td>\n",
       "      <td>11</td>\n",
       "      <td>male</td>\n",
       "      <td>266.0</td>\n",
       "      <td>0</td>\n",
       "      <td>0</td>\n",
       "      <td>0</td>\n",
       "      <td>0</td>\n",
       "      <td>0</td>\n",
       "      <td>0</td>\n",
       "      <td>0</td>\n",
       "      <td>0</td>\n",
       "    </tr>\n",
       "    <tr>\n",
       "      <th>1</th>\n",
       "      <td>1192601</td>\n",
       "      <td>14</td>\n",
       "      <td>2</td>\n",
       "      <td>1999</td>\n",
       "      <td>11</td>\n",
       "      <td>female</td>\n",
       "      <td>6.0</td>\n",
       "      <td>0</td>\n",
       "      <td>0</td>\n",
       "      <td>0</td>\n",
       "      <td>0</td>\n",
       "      <td>0</td>\n",
       "      <td>0</td>\n",
       "      <td>0</td>\n",
       "      <td>0</td>\n",
       "    </tr>\n",
       "    <tr>\n",
       "      <th>2</th>\n",
       "      <td>2083884</td>\n",
       "      <td>14</td>\n",
       "      <td>16</td>\n",
       "      <td>1999</td>\n",
       "      <td>11</td>\n",
       "      <td>male</td>\n",
       "      <td>13.0</td>\n",
       "      <td>0</td>\n",
       "      <td>0</td>\n",
       "      <td>0</td>\n",
       "      <td>0</td>\n",
       "      <td>0</td>\n",
       "      <td>0</td>\n",
       "      <td>0</td>\n",
       "      <td>0</td>\n",
       "    </tr>\n",
       "    <tr>\n",
       "      <th>3</th>\n",
       "      <td>1203168</td>\n",
       "      <td>14</td>\n",
       "      <td>25</td>\n",
       "      <td>1999</td>\n",
       "      <td>12</td>\n",
       "      <td>female</td>\n",
       "      <td>93.0</td>\n",
       "      <td>0</td>\n",
       "      <td>0</td>\n",
       "      <td>0</td>\n",
       "      <td>0</td>\n",
       "      <td>0</td>\n",
       "      <td>0</td>\n",
       "      <td>0</td>\n",
       "      <td>0</td>\n",
       "    </tr>\n",
       "    <tr>\n",
       "      <th>4</th>\n",
       "      <td>1733186</td>\n",
       "      <td>14</td>\n",
       "      <td>4</td>\n",
       "      <td>1999</td>\n",
       "      <td>12</td>\n",
       "      <td>male</td>\n",
       "      <td>82.0</td>\n",
       "      <td>0</td>\n",
       "      <td>0</td>\n",
       "      <td>0</td>\n",
       "      <td>0</td>\n",
       "      <td>0</td>\n",
       "      <td>0</td>\n",
       "      <td>0</td>\n",
       "      <td>0</td>\n",
       "    </tr>\n",
       "  </tbody>\n",
       "</table>\n",
       "</div>"
      ],
      "text/plain": [
       "    userid  age  dob_day  dob_year  dob_month  gender  tenure  friend_count  \\\n",
       "0  2094382   14       19      1999         11    male   266.0             0   \n",
       "1  1192601   14        2      1999         11  female     6.0             0   \n",
       "2  2083884   14       16      1999         11    male    13.0             0   \n",
       "3  1203168   14       25      1999         12  female    93.0             0   \n",
       "4  1733186   14        4      1999         12    male    82.0             0   \n",
       "\n",
       "   friendships_initiated  likes  likes_received  mobile_likes  \\\n",
       "0                      0      0               0             0   \n",
       "1                      0      0               0             0   \n",
       "2                      0      0               0             0   \n",
       "3                      0      0               0             0   \n",
       "4                      0      0               0             0   \n",
       "\n",
       "   mobile_likes_received  www_likes  www_likes_received  \n",
       "0                      0          0                   0  \n",
       "1                      0          0                   0  \n",
       "2                      0          0                   0  \n",
       "3                      0          0                   0  \n",
       "4                      0          0                   0  "
      ]
     },
     "execution_count": 2,
     "metadata": {},
     "output_type": "execute_result"
    }
   ],
   "source": [
    "#Importing Facebook Dataset\n",
    "import pandas as pd\n",
    "dffb=pd.read_csv(\"https://raw.githubusercontent.com/insaid2018/Term-1/master/Data/Projects/facebook_data.csv\")\n",
    "dffb.head()"
   ]
  },
  {
   "cell_type": "markdown",
   "metadata": {},
   "source": [
    "<a id=section4></a>\n",
    "## 4. Data Description\n",
    "\n",
    "Here we are trying to understand the dataset by studying about the shape and size of our data.We also figure out the columns in our dataset."
   ]
  },
  {
   "cell_type": "code",
   "execution_count": 2,
   "metadata": {},
   "outputs": [
    {
     "name": "stdout",
     "output_type": "stream",
     "text": [
      "(99003, 15)\n",
      "Currently Facebook Dataset has 99003 rows and 15 columns\n",
      "\n",
      " Below columns exist in our database \n",
      " \n",
      "Index(['userid', 'age', 'dob_day', 'dob_year', 'dob_month', 'gender', 'tenure',\n",
      "       'friend_count', 'friendships_initiated', 'likes', 'likes_received',\n",
      "       'mobile_likes', 'mobile_likes_received', 'www_likes',\n",
      "       'www_likes_received'],\n",
      "      dtype='object')\n"
     ]
    }
   ],
   "source": [
    "print(dffb.shape)\n",
    "print(\"Currently Facebook Dataset has {rows} rows and {columns} columns\".format(rows=\"99003\",columns=\"15\"))\n",
    "print(\"\\n Below columns exist in our database \\n \")\n",
    "print(dffb.columns)"
   ]
  },
  {
   "cell_type": "markdown",
   "metadata": {},
   "source": [
    "### Here is a concise summary of our data and its description"
   ]
  },
  {
   "cell_type": "code",
   "execution_count": 3,
   "metadata": {},
   "outputs": [
    {
     "name": "stdout",
     "output_type": "stream",
     "text": [
      "<class 'pandas.core.frame.DataFrame'>\n",
      "RangeIndex: 99003 entries, 0 to 99002\n",
      "Data columns (total 15 columns):\n",
      " #   Column                 Non-Null Count  Dtype  \n",
      "---  ------                 --------------  -----  \n",
      " 0   userid                 99003 non-null  int64  \n",
      " 1   age                    99003 non-null  int64  \n",
      " 2   dob_day                99003 non-null  int64  \n",
      " 3   dob_year               99003 non-null  int64  \n",
      " 4   dob_month              99003 non-null  int64  \n",
      " 5   gender                 98828 non-null  object \n",
      " 6   tenure                 99001 non-null  float64\n",
      " 7   friend_count           99003 non-null  int64  \n",
      " 8   friendships_initiated  99003 non-null  int64  \n",
      " 9   likes                  99003 non-null  int64  \n",
      " 10  likes_received         99003 non-null  int64  \n",
      " 11  mobile_likes           99003 non-null  int64  \n",
      " 12  mobile_likes_received  99003 non-null  int64  \n",
      " 13  www_likes              99003 non-null  int64  \n",
      " 14  www_likes_received     99003 non-null  int64  \n",
      "dtypes: float64(1), int64(13), object(1)\n",
      "memory usage: 11.3+ MB\n",
      "\n",
      "\n"
     ]
    }
   ],
   "source": [
    "dffb.info()\n",
    "print(\"\\n\")"
   ]
  },
  {
   "cell_type": "markdown",
   "metadata": {},
   "source": [
    "From the info function we could learn:\n",
    "    1. There are **99003 rows/samples and 15 columns** in our dataset.\n",
    "    2. There are **14 columns with numeric datatypes** and **1 column with object datatype**.\n",
    "    3. We have missing values in **gender and tenure columns** respectively."
   ]
  },
  {
   "cell_type": "code",
   "execution_count": 4,
   "metadata": {},
   "outputs": [
    {
     "data": {
      "text/plain": [
       "0        False\n",
       "1        False\n",
       "2        False\n",
       "3        False\n",
       "4        False\n",
       "         ...  \n",
       "98998    False\n",
       "98999    False\n",
       "99000    False\n",
       "99001    False\n",
       "99002    False\n",
       "Name: gender, Length: 99003, dtype: bool"
      ]
     },
     "execution_count": 4,
     "metadata": {},
     "output_type": "execute_result"
    }
   ],
   "source": [
    "dffb['gender'].isnull()"
   ]
  },
  {
   "cell_type": "code",
   "execution_count": 9,
   "metadata": {},
   "outputs": [
    {
     "data": {
      "text/plain": [
       "0        False\n",
       "1        False\n",
       "2        False\n",
       "3        False\n",
       "4        False\n",
       "         ...  \n",
       "98998    False\n",
       "98999    False\n",
       "99000    False\n",
       "99001    False\n",
       "99002    False\n",
       "Name: tenure, Length: 99003, dtype: bool"
      ]
     },
     "execution_count": 9,
     "metadata": {},
     "output_type": "execute_result"
    }
   ],
   "source": [
    "dffb['tenure'].isnull()"
   ]
  },
  {
   "cell_type": "code",
   "execution_count": 5,
   "metadata": {
    "scrolled": false
   },
   "outputs": [
    {
     "data": {
      "text/html": [
       "<div>\n",
       "<style scoped>\n",
       "    .dataframe tbody tr th:only-of-type {\n",
       "        vertical-align: middle;\n",
       "    }\n",
       "\n",
       "    .dataframe tbody tr th {\n",
       "        vertical-align: top;\n",
       "    }\n",
       "\n",
       "    .dataframe thead th {\n",
       "        text-align: right;\n",
       "    }\n",
       "</style>\n",
       "<table border=\"1\" class=\"dataframe\">\n",
       "  <thead>\n",
       "    <tr style=\"text-align: right;\">\n",
       "      <th></th>\n",
       "      <th>userid</th>\n",
       "      <th>age</th>\n",
       "      <th>dob_day</th>\n",
       "      <th>dob_year</th>\n",
       "      <th>dob_month</th>\n",
       "      <th>tenure</th>\n",
       "      <th>friend_count</th>\n",
       "      <th>friendships_initiated</th>\n",
       "      <th>likes</th>\n",
       "      <th>likes_received</th>\n",
       "      <th>mobile_likes</th>\n",
       "      <th>mobile_likes_received</th>\n",
       "      <th>www_likes</th>\n",
       "      <th>www_likes_received</th>\n",
       "    </tr>\n",
       "  </thead>\n",
       "  <tbody>\n",
       "    <tr>\n",
       "      <th>count</th>\n",
       "      <td>9.900300e+04</td>\n",
       "      <td>99003.000000</td>\n",
       "      <td>99003.000000</td>\n",
       "      <td>99003.000000</td>\n",
       "      <td>99003.000000</td>\n",
       "      <td>99001.000000</td>\n",
       "      <td>99003.000000</td>\n",
       "      <td>99003.000000</td>\n",
       "      <td>99003.000000</td>\n",
       "      <td>99003.000000</td>\n",
       "      <td>99003.000000</td>\n",
       "      <td>99003.000000</td>\n",
       "      <td>99003.000000</td>\n",
       "      <td>99003.000000</td>\n",
       "    </tr>\n",
       "    <tr>\n",
       "      <th>mean</th>\n",
       "      <td>1.597045e+06</td>\n",
       "      <td>37.280224</td>\n",
       "      <td>14.530408</td>\n",
       "      <td>1975.719776</td>\n",
       "      <td>6.283365</td>\n",
       "      <td>537.887375</td>\n",
       "      <td>196.350787</td>\n",
       "      <td>107.452471</td>\n",
       "      <td>156.078785</td>\n",
       "      <td>142.689363</td>\n",
       "      <td>106.116300</td>\n",
       "      <td>84.120491</td>\n",
       "      <td>49.962425</td>\n",
       "      <td>58.568831</td>\n",
       "    </tr>\n",
       "    <tr>\n",
       "      <th>std</th>\n",
       "      <td>3.440592e+05</td>\n",
       "      <td>22.589748</td>\n",
       "      <td>9.015606</td>\n",
       "      <td>22.589748</td>\n",
       "      <td>3.529672</td>\n",
       "      <td>457.649874</td>\n",
       "      <td>387.304229</td>\n",
       "      <td>188.786951</td>\n",
       "      <td>572.280681</td>\n",
       "      <td>1387.919613</td>\n",
       "      <td>445.252985</td>\n",
       "      <td>839.889444</td>\n",
       "      <td>285.560152</td>\n",
       "      <td>601.416348</td>\n",
       "    </tr>\n",
       "    <tr>\n",
       "      <th>min</th>\n",
       "      <td>1.000008e+06</td>\n",
       "      <td>13.000000</td>\n",
       "      <td>1.000000</td>\n",
       "      <td>1900.000000</td>\n",
       "      <td>1.000000</td>\n",
       "      <td>0.000000</td>\n",
       "      <td>0.000000</td>\n",
       "      <td>0.000000</td>\n",
       "      <td>0.000000</td>\n",
       "      <td>0.000000</td>\n",
       "      <td>0.000000</td>\n",
       "      <td>0.000000</td>\n",
       "      <td>0.000000</td>\n",
       "      <td>0.000000</td>\n",
       "    </tr>\n",
       "    <tr>\n",
       "      <th>25%</th>\n",
       "      <td>1.298806e+06</td>\n",
       "      <td>20.000000</td>\n",
       "      <td>7.000000</td>\n",
       "      <td>1963.000000</td>\n",
       "      <td>3.000000</td>\n",
       "      <td>226.000000</td>\n",
       "      <td>31.000000</td>\n",
       "      <td>17.000000</td>\n",
       "      <td>1.000000</td>\n",
       "      <td>1.000000</td>\n",
       "      <td>0.000000</td>\n",
       "      <td>0.000000</td>\n",
       "      <td>0.000000</td>\n",
       "      <td>0.000000</td>\n",
       "    </tr>\n",
       "    <tr>\n",
       "      <th>50%</th>\n",
       "      <td>1.596148e+06</td>\n",
       "      <td>28.000000</td>\n",
       "      <td>14.000000</td>\n",
       "      <td>1985.000000</td>\n",
       "      <td>6.000000</td>\n",
       "      <td>412.000000</td>\n",
       "      <td>82.000000</td>\n",
       "      <td>46.000000</td>\n",
       "      <td>11.000000</td>\n",
       "      <td>8.000000</td>\n",
       "      <td>4.000000</td>\n",
       "      <td>4.000000</td>\n",
       "      <td>0.000000</td>\n",
       "      <td>2.000000</td>\n",
       "    </tr>\n",
       "    <tr>\n",
       "      <th>75%</th>\n",
       "      <td>1.895744e+06</td>\n",
       "      <td>50.000000</td>\n",
       "      <td>22.000000</td>\n",
       "      <td>1993.000000</td>\n",
       "      <td>9.000000</td>\n",
       "      <td>675.000000</td>\n",
       "      <td>206.000000</td>\n",
       "      <td>117.000000</td>\n",
       "      <td>81.000000</td>\n",
       "      <td>59.000000</td>\n",
       "      <td>46.000000</td>\n",
       "      <td>33.000000</td>\n",
       "      <td>7.000000</td>\n",
       "      <td>20.000000</td>\n",
       "    </tr>\n",
       "    <tr>\n",
       "      <th>max</th>\n",
       "      <td>2.193542e+06</td>\n",
       "      <td>113.000000</td>\n",
       "      <td>31.000000</td>\n",
       "      <td>2000.000000</td>\n",
       "      <td>12.000000</td>\n",
       "      <td>3139.000000</td>\n",
       "      <td>4923.000000</td>\n",
       "      <td>4144.000000</td>\n",
       "      <td>25111.000000</td>\n",
       "      <td>261197.000000</td>\n",
       "      <td>25111.000000</td>\n",
       "      <td>138561.000000</td>\n",
       "      <td>14865.000000</td>\n",
       "      <td>129953.000000</td>\n",
       "    </tr>\n",
       "  </tbody>\n",
       "</table>\n",
       "</div>"
      ],
      "text/plain": [
       "             userid           age       dob_day      dob_year     dob_month  \\\n",
       "count  9.900300e+04  99003.000000  99003.000000  99003.000000  99003.000000   \n",
       "mean   1.597045e+06     37.280224     14.530408   1975.719776      6.283365   \n",
       "std    3.440592e+05     22.589748      9.015606     22.589748      3.529672   \n",
       "min    1.000008e+06     13.000000      1.000000   1900.000000      1.000000   \n",
       "25%    1.298806e+06     20.000000      7.000000   1963.000000      3.000000   \n",
       "50%    1.596148e+06     28.000000     14.000000   1985.000000      6.000000   \n",
       "75%    1.895744e+06     50.000000     22.000000   1993.000000      9.000000   \n",
       "max    2.193542e+06    113.000000     31.000000   2000.000000     12.000000   \n",
       "\n",
       "             tenure  friend_count  friendships_initiated         likes  \\\n",
       "count  99001.000000  99003.000000           99003.000000  99003.000000   \n",
       "mean     537.887375    196.350787             107.452471    156.078785   \n",
       "std      457.649874    387.304229             188.786951    572.280681   \n",
       "min        0.000000      0.000000               0.000000      0.000000   \n",
       "25%      226.000000     31.000000              17.000000      1.000000   \n",
       "50%      412.000000     82.000000              46.000000     11.000000   \n",
       "75%      675.000000    206.000000             117.000000     81.000000   \n",
       "max     3139.000000   4923.000000            4144.000000  25111.000000   \n",
       "\n",
       "       likes_received  mobile_likes  mobile_likes_received     www_likes  \\\n",
       "count    99003.000000  99003.000000           99003.000000  99003.000000   \n",
       "mean       142.689363    106.116300              84.120491     49.962425   \n",
       "std       1387.919613    445.252985             839.889444    285.560152   \n",
       "min          0.000000      0.000000               0.000000      0.000000   \n",
       "25%          1.000000      0.000000               0.000000      0.000000   \n",
       "50%          8.000000      4.000000               4.000000      0.000000   \n",
       "75%         59.000000     46.000000              33.000000      7.000000   \n",
       "max     261197.000000  25111.000000          138561.000000  14865.000000   \n",
       "\n",
       "       www_likes_received  \n",
       "count        99003.000000  \n",
       "mean            58.568831  \n",
       "std            601.416348  \n",
       "min              0.000000  \n",
       "25%              0.000000  \n",
       "50%              2.000000  \n",
       "75%             20.000000  \n",
       "max         129953.000000  "
      ]
     },
     "execution_count": 5,
     "metadata": {},
     "output_type": "execute_result"
    }
   ],
   "source": [
    "dffb.describe()"
   ]
  },
  {
   "cell_type": "markdown",
   "metadata": {},
   "source": [
    "Here we can see minimum age is 13 but max is 113 which is ont possible"
   ]
  },
  {
   "cell_type": "markdown",
   "metadata": {},
   "source": [
    "<a id=section5></a>\n",
    "## 5. Pandas profiling before Data Pre-processing\n",
    " Now we will perform Pandas Profiling before preprocessing our dataset, so we will name the output file as **profiling_before_preprocessing.html**. \n"
   ]
  },
  {
   "cell_type": "code",
   "execution_count": null,
   "metadata": {},
   "outputs": [],
   "source": []
  },
  {
   "cell_type": "code",
   "execution_count": 21,
   "metadata": {
    "scrolled": true
   },
   "outputs": [
    {
     "name": "stdout",
     "output_type": "stream",
     "text": [
      "Collecting package metadata (current_repodata.json): ...working... done\n",
      "Note: you may need to restart the kernel to use updated packages.\n"
     ]
    },
    {
     "name": "stderr",
     "output_type": "stream",
     "text": [
      "WARNING conda.gateways.disk.delete:unlink_or_rename_to_trash(140): Could not remove or rename C:\\Users\\Kavita\\anaconda3\\pkgs\\openssl-1.1.1g-he774522_0.tar.bz2.  Please remove this file manually (you may need to reboot to free file handles)\n"
     ]
    },
    {
     "name": "stdout",
     "output_type": "stream",
     "text": [
      "\n",
      "Solving environment: ...working... done\n",
      "\n",
      "## Package Plan ##\n",
      "\n",
      "  environment location: C:\\Users\\Kavita\\anaconda3\n",
      "\n",
      "  added / updated specs:\n",
      "    - pandas-profiling\n",
      "\n",
      "\n",
      "The following packages will be downloaded:\n",
      "\n",
      "    package                    |            build\n",
      "    ---------------------------|-----------------\n",
      "    openssl-1.1.1g             |       he774522_0         5.7 MB  conda-forge\n",
      "    ------------------------------------------------------------\n",
      "                                           Total:         5.7 MB\n",
      "\n",
      "The following NEW packages will be INSTALLED:\n",
      "\n",
      "  pandas-profiling   conda-forge/win-64::pandas-profiling-1.4.1-0\n",
      "  python_abi         conda-forge/win-64::python_abi-3.7-1_cp37m\n",
      "\n",
      "The following packages will be UPDATED:\n",
      "\n",
      "  ca-certificates     pkgs/main::ca-certificates-2020.1.1-0 --> conda-forge::ca-certificates-2020.4.5.1-hecc5488_0\n",
      "  conda                       pkgs/main::conda-4.8.3-py37_0 --> conda-forge::conda-4.8.3-py37hc8dfbb8_1\n",
      "\n",
      "The following packages will be SUPERSEDED by a higher-priority channel:\n",
      "\n",
      "  certifi              pkgs/main::certifi-2020.4.5.1-py37_0 --> conda-forge::certifi-2020.4.5.1-py37hc8dfbb8_0\n",
      "  openssl                                         pkgs/main --> conda-forge\n",
      "\n",
      "\n",
      "\n",
      "Downloading and Extracting Packages\n",
      "\n",
      "openssl-1.1.1g       | 5.7 MB    |            |   0% \n",
      "openssl-1.1.1g       | 5.7 MB    |            |   0% \n",
      "openssl-1.1.1g       | 5.7 MB    |            |   1% \n",
      "openssl-1.1.1g       | 5.7 MB    | 1          |   1% \n",
      "openssl-1.1.1g       | 5.7 MB    | 1          |   2% \n",
      "openssl-1.1.1g       | 5.7 MB    | 2          |   3% \n",
      "openssl-1.1.1g       | 5.7 MB    | 4          |   4% \n",
      "openssl-1.1.1g       | 5.7 MB    | 4          |   5% \n",
      "openssl-1.1.1g       | 5.7 MB    | 5          |   6% \n",
      "openssl-1.1.1g       | 5.7 MB    | 6          |   7% \n",
      "openssl-1.1.1g       | 5.7 MB    | 7          |   7% \n",
      "openssl-1.1.1g       | 5.7 MB    | 8          |   9% \n",
      "openssl-1.1.1g       | 5.7 MB    | 9          |  10% \n",
      "openssl-1.1.1g       | 5.7 MB    | #          |  11% \n",
      "openssl-1.1.1g       | 5.7 MB    | #1         |  11% \n",
      "openssl-1.1.1g       | 5.7 MB    | #3         |  14% \n",
      "openssl-1.1.1g       | 5.7 MB    | #4         |  15% \n",
      "openssl-1.1.1g       | 5.7 MB    | #6         |  16% \n",
      "openssl-1.1.1g       | 5.7 MB    | #6         |  17% \n",
      "openssl-1.1.1g       | 5.7 MB    | #8         |  19% \n",
      "openssl-1.1.1g       | 5.7 MB    | #9         |  19% \n",
      "openssl-1.1.1g       | 5.7 MB    | ##         |  20% \n",
      "openssl-1.1.1g       | 5.7 MB    | ##1        |  22% \n",
      "openssl-1.1.1g       | 5.7 MB    | ##2        |  23% \n",
      "openssl-1.1.1g       | 5.7 MB    | ##4        |  25% \n",
      "openssl-1.1.1g       | 5.7 MB    | ##5        |  25% \n",
      "openssl-1.1.1g       | 5.7 MB    | ##6        |  26% \n",
      "openssl-1.1.1g       | 5.7 MB    | ##7        |  28% \n",
      "openssl-1.1.1g       | 5.7 MB    | ##8        |  28% \n",
      "openssl-1.1.1g       | 5.7 MB    | ###1       |  31% \n",
      "openssl-1.1.1g       | 5.7 MB    | ###2       |  32% \n",
      "openssl-1.1.1g       | 5.7 MB    | ###3       |  34% \n",
      "openssl-1.1.1g       | 5.7 MB    | ###5       |  35% \n",
      "openssl-1.1.1g       | 5.7 MB    | ###8       |  38% \n",
      "openssl-1.1.1g       | 5.7 MB    | ###9       |  40% \n",
      "openssl-1.1.1g       | 5.7 MB    | ####1      |  41% \n",
      "openssl-1.1.1g       | 5.7 MB    | ####2      |  43% \n",
      "openssl-1.1.1g       | 5.7 MB    | ####3      |  44% \n",
      "openssl-1.1.1g       | 5.7 MB    | ####6      |  46% \n",
      "openssl-1.1.1g       | 5.7 MB    | ####7      |  47% \n",
      "openssl-1.1.1g       | 5.7 MB    | ####8      |  49% \n",
      "openssl-1.1.1g       | 5.7 MB    | ####9      |  50% \n",
      "openssl-1.1.1g       | 5.7 MB    | #####      |  51% \n",
      "openssl-1.1.1g       | 5.7 MB    | #####2     |  52% \n",
      "openssl-1.1.1g       | 5.7 MB    | #####5     |  55% \n",
      "openssl-1.1.1g       | 5.7 MB    | #####6     |  56% \n",
      "openssl-1.1.1g       | 5.7 MB    | #####9     |  59% \n",
      "openssl-1.1.1g       | 5.7 MB    | ######     |  61% \n",
      "openssl-1.1.1g       | 5.7 MB    | ######1    |  62% \n",
      "openssl-1.1.1g       | 5.7 MB    | ######3    |  63% \n",
      "openssl-1.1.1g       | 5.7 MB    | ######4    |  65% \n",
      "openssl-1.1.1g       | 5.7 MB    | ######5    |  66% \n",
      "openssl-1.1.1g       | 5.7 MB    | ######7    |  67% \n",
      "openssl-1.1.1g       | 5.7 MB    | ######9    |  69% \n",
      "openssl-1.1.1g       | 5.7 MB    | #######2   |  72% \n",
      "openssl-1.1.1g       | 5.7 MB    | #######5   |  75% \n",
      "openssl-1.1.1g       | 5.7 MB    | #######6   |  77% \n",
      "openssl-1.1.1g       | 5.7 MB    | #######8   |  79% \n",
      "openssl-1.1.1g       | 5.7 MB    | ########   |  80% \n",
      "openssl-1.1.1g       | 5.7 MB    | ########2  |  82% \n",
      "openssl-1.1.1g       | 5.7 MB    | ########3  |  83% \n",
      "openssl-1.1.1g       | 5.7 MB    | ########4  |  85% \n",
      "openssl-1.1.1g       | 5.7 MB    | ########7  |  88% \n",
      "openssl-1.1.1g       | 5.7 MB    | ########9  |  90% \n",
      "openssl-1.1.1g       | 5.7 MB    | #########  |  91% \n",
      "openssl-1.1.1g       | 5.7 MB    | #########2 |  93% \n",
      "openssl-1.1.1g       | 5.7 MB    | #########4 |  95% \n",
      "openssl-1.1.1g       | 5.7 MB    | #########7 |  98% \n",
      "openssl-1.1.1g       | 5.7 MB    | #########9 | 100% \n",
      "openssl-1.1.1g       | 5.7 MB    | ########## | 100% \n"
     ]
    },
    {
     "name": "stderr",
     "output_type": "stream",
     "text": [
      "\n",
      "InvalidArchiveError('Error with archive C:\\\\Users\\\\Kavita\\\\anaconda3\\\\pkgs\\\\openssl-1.1.1g-he774522_0.tar.bz2.  You probably need to delete and re-download or re-create this file.  Message from libarchive was:\\n\\nCould not unlink')\n",
      "\n"
     ]
    }
   ],
   "source": [
    "conda install -c conda-forge pandas-profiling"
   ]
  },
  {
   "cell_type": "code",
   "execution_count": 12,
   "metadata": {},
   "outputs": [
    {
     "name": "stdout",
     "output_type": "stream",
     "text": [
      "Collecting datascience\n",
      "  Downloading datascience-0.15.4.tar.gz (42 kB)\n",
      "Collecting folium>=0.9.1\n",
      "  Downloading folium-0.11.0-py2.py3-none-any.whl (93 kB)\n",
      "Requirement already satisfied: sphinx in c:\\users\\kavita\\anaconda3\\lib\\site-packages (from datascience) (3.0.3)\n",
      "Requirement already satisfied: setuptools in c:\\users\\kavita\\anaconda3\\lib\\site-packages (from datascience) (46.4.0.post20200518)\n",
      "Requirement already satisfied: matplotlib>=3.0.0 in c:\\users\\kavita\\anaconda3\\lib\\site-packages (from datascience) (3.1.3)\n",
      "Requirement already satisfied: pandas in c:\\users\\kavita\\anaconda3\\lib\\site-packages (from datascience) (1.0.3)\n",
      "Requirement already satisfied: scipy in c:\\users\\kavita\\anaconda3\\lib\\site-packages (from datascience) (1.4.1)\n",
      "Requirement already satisfied: numpy in c:\\users\\kavita\\anaconda3\\lib\\site-packages (from datascience) (1.18.1)\n",
      "Requirement already satisfied: ipython in c:\\users\\kavita\\anaconda3\\lib\\site-packages (from datascience) (7.13.0)\n",
      "Collecting pytest\n",
      "  Downloading pytest-5.4.2-py3-none-any.whl (247 kB)\n",
      "Collecting coverage\n",
      "  Downloading coverage-5.1-cp37-cp37m-win_amd64.whl (205 kB)\n",
      "Collecting coveralls\n",
      "  Downloading coveralls-2.0.0-py2.py3-none-any.whl (12 kB)\n",
      "Collecting bokeh\n",
      "  Downloading bokeh-2.0.2.tar.gz (8.6 MB)\n",
      "Requirement already satisfied: requests in c:\\users\\kavita\\anaconda3\\lib\\site-packages (from folium>=0.9.1->datascience) (2.23.0)\n",
      "Collecting branca>=0.3.0\n",
      "  Downloading branca-0.4.1-py3-none-any.whl (24 kB)\n",
      "Requirement already satisfied: jinja2>=2.9 in c:\\users\\kavita\\anaconda3\\lib\\site-packages (from folium>=0.9.1->datascience) (2.11.2)\n",
      "Requirement already satisfied: docutils>=0.12 in c:\\users\\kavita\\anaconda3\\lib\\site-packages (from sphinx->datascience) (0.16)\n",
      "Requirement already satisfied: sphinxcontrib-jsmath in c:\\users\\kavita\\anaconda3\\lib\\site-packages (from sphinx->datascience) (1.0.1)\n",
      "Requirement already satisfied: Pygments>=2.0 in c:\\users\\kavita\\anaconda3\\lib\\site-packages (from sphinx->datascience) (2.6.1)\n",
      "Requirement already satisfied: sphinxcontrib-serializinghtml in c:\\users\\kavita\\anaconda3\\lib\\site-packages (from sphinx->datascience) (1.1.4)\n",
      "Requirement already satisfied: sphinxcontrib-devhelp in c:\\users\\kavita\\anaconda3\\lib\\site-packages (from sphinx->datascience) (1.0.2)\n",
      "Requirement already satisfied: sphinxcontrib-applehelp in c:\\users\\kavita\\anaconda3\\lib\\site-packages (from sphinx->datascience) (1.0.2)\n",
      "Requirement already satisfied: colorama>=0.3.5; sys_platform == \"win32\" in c:\\users\\kavita\\anaconda3\\lib\\site-packages (from sphinx->datascience) (0.4.3)\n",
      "Requirement already satisfied: sphinxcontrib-qthelp in c:\\users\\kavita\\anaconda3\\lib\\site-packages (from sphinx->datascience) (1.0.3)\n",
      "Requirement already satisfied: snowballstemmer>=1.1 in c:\\users\\kavita\\anaconda3\\lib\\site-packages (from sphinx->datascience) (2.0.0)\n",
      "Requirement already satisfied: babel>=1.3 in c:\\users\\kavita\\anaconda3\\lib\\site-packages (from sphinx->datascience) (2.8.0)\n",
      "Requirement already satisfied: packaging in c:\\users\\kavita\\anaconda3\\lib\\site-packages (from sphinx->datascience) (20.3)\n",
      "Requirement already satisfied: alabaster<0.8,>=0.7 in c:\\users\\kavita\\anaconda3\\lib\\site-packages (from sphinx->datascience) (0.7.12)\n",
      "Requirement already satisfied: sphinxcontrib-htmlhelp in c:\\users\\kavita\\anaconda3\\lib\\site-packages (from sphinx->datascience) (1.0.3)\n",
      "Requirement already satisfied: imagesize in c:\\users\\kavita\\anaconda3\\lib\\site-packages (from sphinx->datascience) (1.2.0)\n",
      "Requirement already satisfied: python-dateutil>=2.1 in c:\\users\\kavita\\anaconda3\\lib\\site-packages (from matplotlib>=3.0.0->datascience) (2.8.1)\n",
      "Requirement already satisfied: kiwisolver>=1.0.1 in c:\\users\\kavita\\anaconda3\\lib\\site-packages (from matplotlib>=3.0.0->datascience) (1.2.0)\n",
      "Requirement already satisfied: pyparsing!=2.0.4,!=2.1.2,!=2.1.6,>=2.0.1 in c:\\users\\kavita\\anaconda3\\lib\\site-packages (from matplotlib>=3.0.0->datascience) (2.4.7)\n",
      "Requirement already satisfied: cycler>=0.10 in c:\\users\\kavita\\anaconda3\\lib\\site-packages (from matplotlib>=3.0.0->datascience) (0.10.0)\n",
      "Requirement already satisfied: pytz>=2017.2 in c:\\users\\kavita\\anaconda3\\lib\\site-packages (from pandas->datascience) (2020.1)\n",
      "Requirement already satisfied: decorator in c:\\users\\kavita\\anaconda3\\lib\\site-packages (from ipython->datascience) (4.4.2)\n",
      "Requirement already satisfied: traitlets>=4.2 in c:\\users\\kavita\\anaconda3\\lib\\site-packages (from ipython->datascience) (4.3.3)\n",
      "Requirement already satisfied: backcall in c:\\users\\kavita\\anaconda3\\lib\\site-packages (from ipython->datascience) (0.1.0)\n",
      "Requirement already satisfied: pickleshare in c:\\users\\kavita\\anaconda3\\lib\\site-packages (from ipython->datascience) (0.7.5)\n",
      "Requirement already satisfied: prompt-toolkit!=3.0.0,!=3.0.1,<3.1.0,>=2.0.0 in c:\\users\\kavita\\anaconda3\\lib\\site-packages (from ipython->datascience) (3.0.4)\n",
      "Requirement already satisfied: jedi>=0.10 in c:\\users\\kavita\\anaconda3\\lib\\site-packages (from ipython->datascience) (0.17.0)\n",
      "Collecting more-itertools>=4.0.0\n",
      "  Downloading more_itertools-8.3.0-py3-none-any.whl (44 kB)\n",
      "Collecting pluggy<1.0,>=0.12\n",
      "  Downloading pluggy-0.13.1-py2.py3-none-any.whl (18 kB)\n",
      "Requirement already satisfied: wcwidth in c:\\users\\kavita\\anaconda3\\lib\\site-packages (from pytest->datascience) (0.1.9)\n",
      "Requirement already satisfied: attrs>=17.4.0 in c:\\users\\kavita\\anaconda3\\lib\\site-packages (from pytest->datascience) (19.3.0)\n",
      "Collecting atomicwrites>=1.0; sys_platform == \"win32\"\n",
      "  Downloading atomicwrites-1.4.0-py2.py3-none-any.whl (6.8 kB)\n",
      "Collecting py>=1.5.0\n",
      "  Downloading py-1.8.1-py2.py3-none-any.whl (83 kB)\n",
      "Requirement already satisfied: importlib-metadata>=0.12; python_version < \"3.8\" in c:\\users\\kavita\\anaconda3\\lib\\site-packages (from pytest->datascience) (1.6.0)\n",
      "Collecting docopt>=0.6.1\n",
      "  Downloading docopt-0.6.2.tar.gz (25 kB)\n",
      "Requirement already satisfied: PyYAML>=3.10 in c:\\users\\kavita\\anaconda3\\lib\\site-packages (from bokeh->datascience) (5.3.1)\n",
      "Requirement already satisfied: pillow>=4.0 in c:\\users\\kavita\\anaconda3\\lib\\site-packages (from bokeh->datascience) (7.1.2)\n",
      "Requirement already satisfied: tornado>=5 in c:\\users\\kavita\\anaconda3\\lib\\site-packages (from bokeh->datascience) (6.0.4)\n",
      "Collecting typing_extensions>=3.7.4\n",
      "  Downloading typing_extensions-3.7.4.2-py3-none-any.whl (22 kB)\n",
      "Requirement already satisfied: certifi>=2017.4.17 in c:\\users\\kavita\\anaconda3\\lib\\site-packages (from requests->folium>=0.9.1->datascience) (2020.4.5.1)\n",
      "Requirement already satisfied: urllib3!=1.25.0,!=1.25.1,<1.26,>=1.21.1 in c:\\users\\kavita\\anaconda3\\lib\\site-packages (from requests->folium>=0.9.1->datascience) (1.25.8)\n",
      "Requirement already satisfied: chardet<4,>=3.0.2 in c:\\users\\kavita\\anaconda3\\lib\\site-packages (from requests->folium>=0.9.1->datascience) (3.0.4)\n",
      "Requirement already satisfied: idna<3,>=2.5 in c:\\users\\kavita\\anaconda3\\lib\\site-packages (from requests->folium>=0.9.1->datascience) (2.9)\n",
      "Requirement already satisfied: MarkupSafe>=0.23 in c:\\users\\kavita\\anaconda3\\lib\\site-packages (from jinja2>=2.9->folium>=0.9.1->datascience) (1.1.1)\n",
      "Requirement already satisfied: six in c:\\users\\kavita\\anaconda3\\lib\\site-packages (from packaging->sphinx->datascience) (1.14.0)\n",
      "Requirement already satisfied: ipython-genutils in c:\\users\\kavita\\anaconda3\\lib\\site-packages (from traitlets>=4.2->ipython->datascience) (0.2.0)\n",
      "Requirement already satisfied: parso>=0.7.0 in c:\\users\\kavita\\anaconda3\\lib\\site-packages (from jedi>=0.10->ipython->datascience) (0.7.0)\n",
      "Requirement already satisfied: zipp>=0.5 in c:\\users\\kavita\\anaconda3\\lib\\site-packages (from importlib-metadata>=0.12; python_version < \"3.8\"->pytest->datascience) (3.1.0)\n",
      "Building wheels for collected packages: datascience, bokeh, docopt\n",
      "  Building wheel for datascience (setup.py): started\n",
      "  Building wheel for datascience (setup.py): finished with status 'done'\n",
      "  Created wheel for datascience: filename=datascience-0.15.4-py3-none-any.whl size=43742 sha256=aad821aac695da8ec7dc98d19f0e4898b21fe22d04647fef66a3fa78aee6d4ee\n",
      "  Stored in directory: c:\\users\\kavita\\appdata\\local\\pip\\cache\\wheels\\2b\\66\\81\\c05b0b91c42976d82b93d4f2ae30a842177a1f4b102922f5a4\n",
      "  Building wheel for bokeh (setup.py): started\n",
      "  Building wheel for bokeh (setup.py): finished with status 'done'\n",
      "  Created wheel for bokeh: filename=bokeh-2.0.2-py3-none-any.whl size=9072545 sha256=1ce035d80d60ad27f3a1ca4683d76aa446bf20b4c8c22f4018541b9ae458054c\n",
      "  Stored in directory: c:\\users\\kavita\\appdata\\local\\pip\\cache\\wheels\\5e\\9a\\e0\\2ce591d3bc02114f16ae1cdd7a4e34ff4d3b99eca54eeee53a\n",
      "  Building wheel for docopt (setup.py): started\n",
      "  Building wheel for docopt (setup.py): finished with status 'done'\n",
      "  Created wheel for docopt: filename=docopt-0.6.2-py2.py3-none-any.whl size=13709 sha256=5c1a7b9af98f63abca9d1053c7d1c7f17086859fecd8f4a6b4ad5800e2cdf1ac\n",
      "  Stored in directory: c:\\users\\kavita\\appdata\\local\\pip\\cache\\wheels\\72\\b0\\3f\\1d95f96ff986c7dfffe46ce2be4062f38ebd04b506c77c81b9\n",
      "Successfully built datascience bokeh docopt\n",
      "Installing collected packages: branca, folium, more-itertools, pluggy, atomicwrites, py, pytest, coverage, docopt, coveralls, typing-extensions, bokeh, datascience\n",
      "Successfully installed atomicwrites-1.4.0 bokeh-2.0.2 branca-0.4.1 coverage-5.1 coveralls-2.0.0 datascience-0.15.4 docopt-0.6.2 folium-0.11.0 more-itertools-8.3.0 pluggy-0.13.1 py-1.8.1 pytest-5.4.2 typing-extensions-3.7.4.2\n"
     ]
    },
    {
     "name": "stdout",
     "output_type": "stream",
     "text": [
      "Requirement already satisfied: pandas-profiling in c:\\users\\kavita\\anaconda3\\lib\\site-packages (2.4.0)\n",
      "Requirement already satisfied: matplotlib>=1.4 in c:\\users\\kavita\\anaconda3\\lib\\site-packages (from pandas-profiling) (3.1.3)\n",
      "Requirement already satisfied: htmlmin>=0.1.12 in c:\\users\\kavita\\anaconda3\\lib\\site-packages (from pandas-profiling) (0.1.12)\n",
      "Requirement already satisfied: missingno>=0.4.2 in c:\\users\\kavita\\anaconda3\\lib\\site-packages (from pandas-profiling) (0.4.2)\n",
      "Requirement already satisfied: phik>=0.9.8 in c:\\users\\kavita\\anaconda3\\lib\\site-packages (from pandas-profiling) (0.10.0)\n",
      "Requirement already satisfied: confuse>=1.0.0 in c:\\users\\kavita\\anaconda3\\lib\\site-packages (from pandas-profiling) (1.1.0)\n",
      "Requirement already satisfied: jinja2>=2.8 in c:\\users\\kavita\\anaconda3\\lib\\site-packages (from pandas-profiling) (2.11.2)\n",
      "Collecting astropy\n",
      "  Using cached astropy-4.0.1.post1-cp37-cp37m-win_amd64.whl (6.1 MB)\n",
      "Requirement already satisfied: pandas>=0.19 in c:\\users\\kavita\\anaconda3\\lib\\site-packages (from pandas-profiling) (1.0.3)\n",
      "Requirement already satisfied: python-dateutil>=2.1 in c:\\users\\kavita\\anaconda3\\lib\\site-packages (from matplotlib>=1.4->pandas-profiling) (2.8.1)\n",
      "Requirement already satisfied: kiwisolver>=1.0.1 in c:\\users\\kavita\\anaconda3\\lib\\site-packages (from matplotlib>=1.4->pandas-profiling) (1.2.0)\n",
      "Requirement already satisfied: pyparsing!=2.0.4,!=2.1.2,!=2.1.6,>=2.0.1 in c:\\users\\kavita\\anaconda3\\lib\\site-packages (from matplotlib>=1.4->pandas-profiling) (2.4.7)\n",
      "Requirement already satisfied: numpy>=1.11 in c:\\users\\kavita\\anaconda3\\lib\\site-packages (from matplotlib>=1.4->pandas-profiling) (1.18.1)\n",
      "Requirement already satisfied: cycler>=0.10 in c:\\users\\kavita\\anaconda3\\lib\\site-packages (from matplotlib>=1.4->pandas-profiling) (0.10.0)\n",
      "Requirement already satisfied: seaborn in c:\\users\\kavita\\anaconda3\\lib\\site-packages (from missingno>=0.4.2->pandas-profiling) (0.10.1)\n",
      "Requirement already satisfied: scipy in c:\\users\\kavita\\anaconda3\\lib\\site-packages (from missingno>=0.4.2->pandas-profiling) (1.4.1)\n",
      "Collecting joblib>=0.14.1\n",
      "  Using cached joblib-0.15.1-py3-none-any.whl (298 kB)\n",
      "Collecting numba>=0.38.1\n",
      "  Downloading numba-0.49.1-cp37-cp37m-win_amd64.whl (2.2 MB)\n",
      "Requirement already satisfied: pyyaml in c:\\users\\kavita\\anaconda3\\lib\\site-packages (from confuse>=1.0.0->pandas-profiling) (5.3.1)\n",
      "Requirement already satisfied: MarkupSafe>=0.23 in c:\\users\\kavita\\anaconda3\\lib\\site-packages (from jinja2>=2.8->pandas-profiling) (1.1.1)\n",
      "Requirement already satisfied: pytz>=2017.2 in c:\\users\\kavita\\anaconda3\\lib\\site-packages (from pandas>=0.19->pandas-profiling) (2020.1)\n",
      "Requirement already satisfied: six>=1.5 in c:\\users\\kavita\\anaconda3\\lib\\site-packages (from python-dateutil>=2.1->matplotlib>=1.4->pandas-profiling) (1.14.0)\n",
      "Requirement already satisfied: setuptools in c:\\users\\kavita\\anaconda3\\lib\\site-packages (from numba>=0.38.1->phik>=0.9.8->pandas-profiling) (46.4.0.post20200518)\n",
      "Collecting llvmlite<=0.33.0.dev0,>=0.31.0.dev0\n",
      "  Downloading llvmlite-0.32.1-cp37-cp37m-win_amd64.whl (13.6 MB)\n",
      "Installing collected packages: astropy, joblib, llvmlite, numba\n",
      "Successfully installed astropy-4.0.1.post1 joblib-0.15.1 llvmlite-0.32.1 numba-0.49.1\n"
     ]
    },
    {
     "ename": "ImportError",
     "evalue": "cannot import name 'ProfileReport' from 'pandas_profiling' (unknown location)",
     "output_type": "error",
     "traceback": [
      "\u001b[1;31m---------------------------------------------------------------------------\u001b[0m",
      "\u001b[1;31mImportError\u001b[0m                               Traceback (most recent call last)",
      "\u001b[1;32m<ipython-input-12-8298338a701b>\u001b[0m in \u001b[0;36m<module>\u001b[1;34m\u001b[0m\n\u001b[0;32m      2\u001b[0m \u001b[0mget_ipython\u001b[0m\u001b[1;33m(\u001b[0m\u001b[1;33m)\u001b[0m\u001b[1;33m.\u001b[0m\u001b[0msystem\u001b[0m\u001b[1;33m(\u001b[0m\u001b[1;34m'pip install pandas-profiling'\u001b[0m\u001b[1;33m)\u001b[0m\u001b[1;33m\u001b[0m\u001b[1;33m\u001b[0m\u001b[0m\n\u001b[0;32m      3\u001b[0m \u001b[1;32mimport\u001b[0m \u001b[0mpandas_profiling\u001b[0m\u001b[1;33m\u001b[0m\u001b[1;33m\u001b[0m\u001b[0m\n\u001b[1;32m----> 4\u001b[1;33m \u001b[1;32mfrom\u001b[0m \u001b[0mpandas_profiling\u001b[0m \u001b[1;32mimport\u001b[0m \u001b[0mProfileReport\u001b[0m\u001b[1;33m\u001b[0m\u001b[1;33m\u001b[0m\u001b[0m\n\u001b[0m\u001b[0;32m      5\u001b[0m \u001b[1;31m#profile = dffb.profile_report(title='Pandas Profiling before Data Preprocessing')\u001b[0m\u001b[1;33m\u001b[0m\u001b[1;33m\u001b[0m\u001b[1;33m\u001b[0m\u001b[0m\n\u001b[0;32m      6\u001b[0m \u001b[1;31m#profile.to_file(output_file=\"profiling_before_preprocessing.html\")\u001b[0m\u001b[1;33m\u001b[0m\u001b[1;33m\u001b[0m\u001b[1;33m\u001b[0m\u001b[0m\n",
      "\u001b[1;31mImportError\u001b[0m: cannot import name 'ProfileReport' from 'pandas_profiling' (unknown location)"
     ]
    }
   ],
   "source": [
    "#!pip install datascience\n",
    "#!pip install pandas-profiling\n",
    "#import pandas_profiling\n",
    "#from pandas_profiling import ProfileReport\n",
    "#profile = dffb.profile_report(title='Pandas Profiling before Data Preprocessing')\n",
    "#profile.to_file(output_file=\"profiling_before_preprocessing.html\")\n",
    "#profile = pandas_profiling.ProfileReport(dffb)\n",
    "#profile = ProfileReport(dffb, title=\"Pandas Profiling Report\")\n"
   ]
  },
  {
   "cell_type": "code",
   "execution_count": 14,
   "metadata": {},
   "outputs": [
    {
     "name": "stdout",
     "output_type": "stream",
     "text": [
      "Requirement already satisfied: pandas-profiling in c:\\users\\kavita\\anaconda3\\lib\\site-packages (2.4.0)\n",
      "Requirement already satisfied: missingno>=0.4.2 in c:\\users\\kavita\\anaconda3\\lib\\site-packages (from pandas-profiling) (0.4.2)\n",
      "Requirement already satisfied: astropy in c:\\users\\kavita\\anaconda3\\lib\\site-packages (from pandas-profiling) (4.0.1.post1)\n",
      "Requirement already satisfied: confuse>=1.0.0 in c:\\users\\kavita\\anaconda3\\lib\\site-packages (from pandas-profiling) (1.1.0)\n",
      "Requirement already satisfied: htmlmin>=0.1.12 in c:\\users\\kavita\\anaconda3\\lib\\site-packages (from pandas-profiling) (0.1.12)\n",
      "Requirement already satisfied: matplotlib>=1.4 in c:\\users\\kavita\\anaconda3\\lib\\site-packages (from pandas-profiling) (3.1.3)\n",
      "Requirement already satisfied: pandas>=0.19 in c:\\users\\kavita\\anaconda3\\lib\\site-packages (from pandas-profiling) (1.0.3)\n",
      "Requirement already satisfied: jinja2>=2.8 in c:\\users\\kavita\\anaconda3\\lib\\site-packages (from pandas-profiling) (2.11.2)\n",
      "Requirement already satisfied: phik>=0.9.8 in c:\\users\\kavita\\anaconda3\\lib\\site-packages (from pandas-profiling) (0.10.0)\n",
      "Requirement already satisfied: seaborn in c:\\users\\kavita\\anaconda3\\lib\\site-packages (from missingno>=0.4.2->pandas-profiling) (0.10.1)\n",
      "Requirement already satisfied: numpy in c:\\users\\kavita\\anaconda3\\lib\\site-packages (from missingno>=0.4.2->pandas-profiling) (1.18.1)\n",
      "Requirement already satisfied: scipy in c:\\users\\kavita\\anaconda3\\lib\\site-packages (from missingno>=0.4.2->pandas-profiling) (1.4.1)\n",
      "Requirement already satisfied: pyyaml in c:\\users\\kavita\\anaconda3\\lib\\site-packages (from confuse>=1.0.0->pandas-profiling) (5.3.1)\n",
      "Requirement already satisfied: kiwisolver>=1.0.1 in c:\\users\\kavita\\anaconda3\\lib\\site-packages (from matplotlib>=1.4->pandas-profiling) (1.2.0)\n",
      "Requirement already satisfied: cycler>=0.10 in c:\\users\\kavita\\anaconda3\\lib\\site-packages (from matplotlib>=1.4->pandas-profiling) (0.10.0)\n",
      "Requirement already satisfied: pyparsing!=2.0.4,!=2.1.2,!=2.1.6,>=2.0.1 in c:\\users\\kavita\\anaconda3\\lib\\site-packages (from matplotlib>=1.4->pandas-profiling) (2.4.7)\n",
      "Requirement already satisfied: python-dateutil>=2.1 in c:\\users\\kavita\\anaconda3\\lib\\site-packages (from matplotlib>=1.4->pandas-profiling) (2.8.1)\n",
      "Requirement already satisfied: pytz>=2017.2 in c:\\users\\kavita\\anaconda3\\lib\\site-packages (from pandas>=0.19->pandas-profiling) (2020.1)\n",
      "Requirement already satisfied: MarkupSafe>=0.23 in c:\\users\\kavita\\anaconda3\\lib\\site-packages (from jinja2>=2.8->pandas-profiling) (1.1.1)\n",
      "Requirement already satisfied: numba>=0.38.1 in c:\\users\\kavita\\anaconda3\\lib\\site-packages (from phik>=0.9.8->pandas-profiling) (0.49.1)\n",
      "Requirement already satisfied: joblib>=0.14.1 in c:\\users\\kavita\\anaconda3\\lib\\site-packages (from phik>=0.9.8->pandas-profiling) (0.15.1)\n",
      "Requirement already satisfied: six in c:\\users\\kavita\\anaconda3\\lib\\site-packages (from cycler>=0.10->matplotlib>=1.4->pandas-profiling) (1.14.0)\n",
      "Requirement already satisfied: llvmlite<=0.33.0.dev0,>=0.31.0.dev0 in c:\\users\\kavita\\anaconda3\\lib\\site-packages (from numba>=0.38.1->phik>=0.9.8->pandas-profiling) (0.32.1)\n",
      "Requirement already satisfied: setuptools in c:\\users\\kavita\\anaconda3\\lib\\site-packages (from numba>=0.38.1->phik>=0.9.8->pandas-profiling) (46.4.0.post20200518)\n"
     ]
    }
   ],
   "source": [
    "#!pip install pandas-profiling"
   ]
  },
  {
   "cell_type": "code",
   "execution_count": 6,
   "metadata": {},
   "outputs": [],
   "source": [
    "import datascience\n",
    "#import pandas_profiling\n",
    "#from pandas_profiling import ProfileReport\n",
    "#profile = ProfileReport(dffb)\n",
    "#profile.to_file(\"fb_pre_profiling.html\")"
   ]
  },
  {
   "cell_type": "code",
   "execution_count": 22,
   "metadata": {},
   "outputs": [],
   "source": [
    "#import pandas_profiling"
   ]
  },
  {
   "cell_type": "code",
   "execution_count": null,
   "metadata": {},
   "outputs": [],
   "source": [
    "pip uninstall pandas_profiling"
   ]
  },
  {
   "cell_type": "code",
   "execution_count": 18,
   "metadata": {},
   "outputs": [
    {
     "ename": "ImportError",
     "evalue": "cannot import name 'ProfileReport' from 'pandas_profiling' (unknown location)",
     "output_type": "error",
     "traceback": [
      "\u001b[1;31m---------------------------------------------------------------------------\u001b[0m",
      "\u001b[1;31mImportError\u001b[0m                               Traceback (most recent call last)",
      "\u001b[1;32m<ipython-input-18-e2a33329b6f0>\u001b[0m in \u001b[0;36m<module>\u001b[1;34m\u001b[0m\n\u001b[1;32m----> 1\u001b[1;33m \u001b[1;32mfrom\u001b[0m \u001b[0mpandas_profiling\u001b[0m \u001b[1;32mimport\u001b[0m \u001b[0mProfileReport\u001b[0m\u001b[1;33m\u001b[0m\u001b[1;33m\u001b[0m\u001b[0m\n\u001b[0m",
      "\u001b[1;31mImportError\u001b[0m: cannot import name 'ProfileReport' from 'pandas_profiling' (unknown location)"
     ]
    }
   ],
   "source": [
    "#from pandas_profiling import ProfileReport"
   ]
  },
  {
   "cell_type": "code",
   "execution_count": 23,
   "metadata": {},
   "outputs": [
    {
     "ename": "NameError",
     "evalue": "name 'ProfileReport' is not defined",
     "output_type": "error",
     "traceback": [
      "\u001b[1;31m---------------------------------------------------------------------------\u001b[0m",
      "\u001b[1;31mNameError\u001b[0m                                 Traceback (most recent call last)",
      "\u001b[1;32m<ipython-input-23-013db4db7a99>\u001b[0m in \u001b[0;36m<module>\u001b[1;34m\u001b[0m\n\u001b[1;32m----> 1\u001b[1;33m \u001b[0mprofile\u001b[0m \u001b[1;33m=\u001b[0m \u001b[0mProfileReport\u001b[0m\u001b[1;33m(\u001b[0m\u001b[0mdffb\u001b[0m\u001b[1;33m)\u001b[0m\u001b[1;33m\u001b[0m\u001b[1;33m\u001b[0m\u001b[0m\n\u001b[0m",
      "\u001b[1;31mNameError\u001b[0m: name 'ProfileReport' is not defined"
     ]
    }
   ],
   "source": [
    "profile = ProfileReport(dffb)\n"
   ]
  }
 ],
 "metadata": {
  "kernelspec": {
   "display_name": "Python 3",
   "language": "python",
   "name": "python3"
  },
  "language_info": {
   "codemirror_mode": {
    "name": "ipython",
    "version": 3
   },
   "file_extension": ".py",
   "mimetype": "text/x-python",
   "name": "python",
   "nbconvert_exporter": "python",
   "pygments_lexer": "ipython3",
   "version": "3.7.6"
  }
 },
 "nbformat": 4,
 "nbformat_minor": 2
}
